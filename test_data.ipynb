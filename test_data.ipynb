{
 "cells": [
  {
   "cell_type": "code",
   "execution_count": 140,
   "metadata": {},
   "outputs": [],
   "source": [
    "import numpy as np\n",
    "import pandas as pd\n",
    "import matplotlib.pyplot as plt\n",
    "import seaborn as sns\n",
    "import requests, json\n",
    "\n",
    "from sklearn.metrics import *\n",
    "from sklearn.model_selection import train_test_split, learning_curve\n",
    "from sklearn.preprocessing import *\n",
    "from sklearn.model_selection import GridSearchCV, RandomizedSearchCV\n",
    "\n",
    "# 크롤링\n",
    "from bs4 import BeautifulSoup\n",
    "import openpyxl\n",
    "\n",
    "# Linear, Logistic\n",
    "from sklearn.linear_model import LinearRegression, LogisticRegression\n",
    "\n",
    "# knn\n",
    "from sklearn.neighbors import KNeighborsClassifier, KNeighborsRegressor\n",
    "\n",
    "# decision\n",
    "from sklearn.tree import DecisionTreeClassifier, DecisionTreeRegressor\n",
    "\n",
    "# svm\n",
    "from sklearn.svm import SVC, SVR\n",
    "\n",
    "# bagging\n",
    "from sklearn.ensemble import RandomForestClassifier, RandomForestRegressor\n",
    "\n",
    "# boosting\n",
    "from xgboost import XGBClassifier, XGBRegressor"
   ]
  },
  {
   "cell_type": "code",
   "execution_count": 165,
   "metadata": {},
   "outputs": [
    {
     "data": {
      "text/plain": [
       "(2441, 24)"
      ]
     },
     "execution_count": 165,
     "metadata": {},
     "output_type": "execute_result"
    }
   ],
   "source": [
    "test = pd.read_csv('test_dataset_v01.csv')\n",
    "test.shape"
   ]
  },
  {
   "cell_type": "code",
   "execution_count": 166,
   "metadata": {},
   "outputs": [],
   "source": [
    "test.loc[test['url_domain_len'].isna(), 'url_domain_len'] = test['url_hostname_len']"
   ]
  },
  {
   "cell_type": "code",
   "execution_count": 167,
   "metadata": {},
   "outputs": [],
   "source": [
    "drop_col = ['url_chinese_present', \"html_num_tags('applet')\", 'Unnamed: 0', 'url_hostname_len']\n",
    "test = test.drop(drop_col, axis=1)"
   ]
  },
  {
   "cell_type": "code",
   "execution_count": 168,
   "metadata": {},
   "outputs": [
    {
     "data": {
      "text/plain": [
       "url_len                      0\n",
       "url_num_hyphens_dom          0\n",
       "url_path_len               466\n",
       "url_domain_len             101\n",
       "url_num_dots                 0\n",
       "url_num_underscores          0\n",
       "url_query_len                0\n",
       "url_num_query_para           0\n",
       "url_ip_present               0\n",
       "url_entropy                  0\n",
       "url_port                     0\n",
       "html_num_tags('iframe')      0\n",
       "html_num_tags('script')    467\n",
       "html_num_tags('embed')       0\n",
       "html_num_tags('object')      0\n",
       "html_num_tags('div')         0\n",
       "html_num_tags('head')        0\n",
       "html_num_tags('body')        0\n",
       "html_num_tags('form')      467\n",
       "html_num_tags('a')         461\n",
       "dtype: int64"
      ]
     },
     "execution_count": 168,
     "metadata": {},
     "output_type": "execute_result"
    }
   ],
   "source": [
    "test.isna().sum()"
   ]
  },
  {
   "cell_type": "code",
   "execution_count": 154,
   "metadata": {},
   "outputs": [],
   "source": [
    "test[\"html_num_tags('form')\"] = test[\"html_num_tags('form')\"].fillna(1)"
   ]
  },
  {
   "cell_type": "code",
   "execution_count": 153,
   "metadata": {},
   "outputs": [],
   "source": [
    "test['url_domain_len'] = test['url_domain_len'].fillna(29)"
   ]
  },
  {
   "cell_type": "code",
   "execution_count": 99,
   "metadata": {},
   "outputs": [],
   "source": [
    "test[\"html_num_tags('a')\"] = test[\"html_num_tags('a')\"].fillna(test[\"html_num_tags('a')\"].mean())"
   ]
  },
  {
   "cell_type": "code",
   "execution_count": 100,
   "metadata": {},
   "outputs": [],
   "source": [
    "test['url_path_len'] = test['url_path_len'].fillna(test['url_path_len'].mean())"
   ]
  },
  {
   "cell_type": "code",
   "execution_count": 101,
   "metadata": {},
   "outputs": [],
   "source": [
    "test[\"html_num_tags('script')\"] = test[\"html_num_tags('script')\"].fillna(test[\"html_num_tags('script')\"].mean())"
   ]
  },
  {
   "cell_type": "code",
   "execution_count": 10,
   "metadata": {},
   "outputs": [],
   "source": [
    "test.to_csv('test_val_2.csv', index=False)"
   ]
  },
  {
   "cell_type": "code",
   "execution_count": 42,
   "metadata": {},
   "outputs": [],
   "source": [
    "import scipy.stats as spst"
   ]
  },
  {
   "cell_type": "code",
   "execution_count": 47,
   "metadata": {},
   "outputs": [],
   "source": [
    "def plt_spst(x_, y_):\n",
    "    sns.regplot(data=test, x=x_, y=y_)\n",
    "    plt.show()\n",
    "    # result = spst.pearsonr(test[x_], test[y_])\n",
    "    # print(result)"
   ]
  },
  {
   "cell_type": "code",
   "execution_count": 109,
   "metadata": {},
   "outputs": [
    {
     "data": {
      "text/plain": [
       "array([1, 3, 0, 2], dtype=int64)"
      ]
     },
     "execution_count": 109,
     "metadata": {},
     "output_type": "execute_result"
    }
   ],
   "source": [
    "test[\"html_num_tags('body')\"].unique()"
   ]
  },
  {
   "cell_type": "code",
   "execution_count": 171,
   "metadata": {},
   "outputs": [
    {
     "data": {
      "text/html": [
       "<div>\n",
       "<style scoped>\n",
       "    .dataframe tbody tr th:only-of-type {\n",
       "        vertical-align: middle;\n",
       "    }\n",
       "\n",
       "    .dataframe tbody tr th {\n",
       "        vertical-align: top;\n",
       "    }\n",
       "\n",
       "    .dataframe thead th {\n",
       "        text-align: right;\n",
       "    }\n",
       "</style>\n",
       "<table border=\"1\" class=\"dataframe\">\n",
       "  <thead>\n",
       "    <tr style=\"text-align: right;\">\n",
       "      <th></th>\n",
       "      <th>url_len</th>\n",
       "      <th>url_num_hyphens_dom</th>\n",
       "      <th>url_path_len</th>\n",
       "      <th>url_domain_len</th>\n",
       "      <th>url_num_dots</th>\n",
       "      <th>url_num_underscores</th>\n",
       "      <th>url_query_len</th>\n",
       "      <th>url_num_query_para</th>\n",
       "      <th>url_ip_present</th>\n",
       "      <th>url_entropy</th>\n",
       "      <th>url_port</th>\n",
       "      <th>html_num_tags('iframe')</th>\n",
       "      <th>html_num_tags('script')</th>\n",
       "      <th>html_num_tags('embed')</th>\n",
       "      <th>html_num_tags('object')</th>\n",
       "      <th>html_num_tags('div')</th>\n",
       "      <th>html_num_tags('head')</th>\n",
       "      <th>html_num_tags('body')</th>\n",
       "      <th>html_num_tags('form')</th>\n",
       "      <th>html_num_tags('a')</th>\n",
       "    </tr>\n",
       "  </thead>\n",
       "  <tbody>\n",
       "    <tr>\n",
       "      <th>2</th>\n",
       "      <td>44</td>\n",
       "      <td>0</td>\n",
       "      <td>NaN</td>\n",
       "      <td>20.0</td>\n",
       "      <td>3</td>\n",
       "      <td>3</td>\n",
       "      <td>0</td>\n",
       "      <td>0</td>\n",
       "      <td>0</td>\n",
       "      <td>4.612835</td>\n",
       "      <td>0</td>\n",
       "      <td>0</td>\n",
       "      <td>6.0</td>\n",
       "      <td>3</td>\n",
       "      <td>3</td>\n",
       "      <td>34</td>\n",
       "      <td>1</td>\n",
       "      <td>1</td>\n",
       "      <td>0.0</td>\n",
       "      <td>136.0</td>\n",
       "    </tr>\n",
       "    <tr>\n",
       "      <th>4</th>\n",
       "      <td>43</td>\n",
       "      <td>2</td>\n",
       "      <td>NaN</td>\n",
       "      <td>26.0</td>\n",
       "      <td>2</td>\n",
       "      <td>0</td>\n",
       "      <td>0</td>\n",
       "      <td>0</td>\n",
       "      <td>0</td>\n",
       "      <td>4.240669</td>\n",
       "      <td>0</td>\n",
       "      <td>0</td>\n",
       "      <td>NaN</td>\n",
       "      <td>0</td>\n",
       "      <td>0</td>\n",
       "      <td>41</td>\n",
       "      <td>1</td>\n",
       "      <td>1</td>\n",
       "      <td>NaN</td>\n",
       "      <td>NaN</td>\n",
       "    </tr>\n",
       "    <tr>\n",
       "      <th>19</th>\n",
       "      <td>45</td>\n",
       "      <td>1</td>\n",
       "      <td>NaN</td>\n",
       "      <td>12.0</td>\n",
       "      <td>4</td>\n",
       "      <td>0</td>\n",
       "      <td>0</td>\n",
       "      <td>0</td>\n",
       "      <td>0</td>\n",
       "      <td>4.556021</td>\n",
       "      <td>0</td>\n",
       "      <td>0</td>\n",
       "      <td>0.0</td>\n",
       "      <td>0</td>\n",
       "      <td>0</td>\n",
       "      <td>0</td>\n",
       "      <td>1</td>\n",
       "      <td>1</td>\n",
       "      <td>NaN</td>\n",
       "      <td>NaN</td>\n",
       "    </tr>\n",
       "    <tr>\n",
       "      <th>21</th>\n",
       "      <td>22</td>\n",
       "      <td>1</td>\n",
       "      <td>NaN</td>\n",
       "      <td>NaN</td>\n",
       "      <td>2</td>\n",
       "      <td>0</td>\n",
       "      <td>0</td>\n",
       "      <td>0</td>\n",
       "      <td>0</td>\n",
       "      <td>3.909368</td>\n",
       "      <td>0</td>\n",
       "      <td>1</td>\n",
       "      <td>5.0</td>\n",
       "      <td>0</td>\n",
       "      <td>0</td>\n",
       "      <td>28</td>\n",
       "      <td>1</td>\n",
       "      <td>1</td>\n",
       "      <td>0.0</td>\n",
       "      <td>31.0</td>\n",
       "    </tr>\n",
       "    <tr>\n",
       "      <th>26</th>\n",
       "      <td>33</td>\n",
       "      <td>0</td>\n",
       "      <td>NaN</td>\n",
       "      <td>17.0</td>\n",
       "      <td>4</td>\n",
       "      <td>0</td>\n",
       "      <td>0</td>\n",
       "      <td>0</td>\n",
       "      <td>0</td>\n",
       "      <td>3.996439</td>\n",
       "      <td>0</td>\n",
       "      <td>0</td>\n",
       "      <td>12.0</td>\n",
       "      <td>0</td>\n",
       "      <td>0</td>\n",
       "      <td>37</td>\n",
       "      <td>1</td>\n",
       "      <td>1</td>\n",
       "      <td>0.0</td>\n",
       "      <td>79.0</td>\n",
       "    </tr>\n",
       "    <tr>\n",
       "      <th>...</th>\n",
       "      <td>...</td>\n",
       "      <td>...</td>\n",
       "      <td>...</td>\n",
       "      <td>...</td>\n",
       "      <td>...</td>\n",
       "      <td>...</td>\n",
       "      <td>...</td>\n",
       "      <td>...</td>\n",
       "      <td>...</td>\n",
       "      <td>...</td>\n",
       "      <td>...</td>\n",
       "      <td>...</td>\n",
       "      <td>...</td>\n",
       "      <td>...</td>\n",
       "      <td>...</td>\n",
       "      <td>...</td>\n",
       "      <td>...</td>\n",
       "      <td>...</td>\n",
       "      <td>...</td>\n",
       "      <td>...</td>\n",
       "    </tr>\n",
       "    <tr>\n",
       "      <th>2431</th>\n",
       "      <td>25</td>\n",
       "      <td>1</td>\n",
       "      <td>NaN</td>\n",
       "      <td>24.0</td>\n",
       "      <td>2</td>\n",
       "      <td>0</td>\n",
       "      <td>0</td>\n",
       "      <td>0</td>\n",
       "      <td>0</td>\n",
       "      <td>4.226410</td>\n",
       "      <td>0</td>\n",
       "      <td>0</td>\n",
       "      <td>0.0</td>\n",
       "      <td>0</td>\n",
       "      <td>0</td>\n",
       "      <td>2</td>\n",
       "      <td>1</td>\n",
       "      <td>1</td>\n",
       "      <td>1.0</td>\n",
       "      <td>0.0</td>\n",
       "    </tr>\n",
       "    <tr>\n",
       "      <th>2433</th>\n",
       "      <td>45</td>\n",
       "      <td>2</td>\n",
       "      <td>NaN</td>\n",
       "      <td>45.0</td>\n",
       "      <td>2</td>\n",
       "      <td>0</td>\n",
       "      <td>0</td>\n",
       "      <td>0</td>\n",
       "      <td>0</td>\n",
       "      <td>4.051428</td>\n",
       "      <td>0</td>\n",
       "      <td>0</td>\n",
       "      <td>1.0</td>\n",
       "      <td>0</td>\n",
       "      <td>0</td>\n",
       "      <td>72</td>\n",
       "      <td>1</td>\n",
       "      <td>1</td>\n",
       "      <td>0.0</td>\n",
       "      <td>20.0</td>\n",
       "    </tr>\n",
       "    <tr>\n",
       "      <th>2435</th>\n",
       "      <td>45</td>\n",
       "      <td>3</td>\n",
       "      <td>NaN</td>\n",
       "      <td>35.0</td>\n",
       "      <td>3</td>\n",
       "      <td>0</td>\n",
       "      <td>0</td>\n",
       "      <td>0</td>\n",
       "      <td>0</td>\n",
       "      <td>4.314829</td>\n",
       "      <td>0</td>\n",
       "      <td>0</td>\n",
       "      <td>2.0</td>\n",
       "      <td>0</td>\n",
       "      <td>0</td>\n",
       "      <td>41</td>\n",
       "      <td>1</td>\n",
       "      <td>1</td>\n",
       "      <td>1.0</td>\n",
       "      <td>18.0</td>\n",
       "    </tr>\n",
       "    <tr>\n",
       "      <th>2436</th>\n",
       "      <td>63</td>\n",
       "      <td>0</td>\n",
       "      <td>NaN</td>\n",
       "      <td>17.0</td>\n",
       "      <td>4</td>\n",
       "      <td>2</td>\n",
       "      <td>0</td>\n",
       "      <td>0</td>\n",
       "      <td>0</td>\n",
       "      <td>4.738082</td>\n",
       "      <td>0</td>\n",
       "      <td>1</td>\n",
       "      <td>18.0</td>\n",
       "      <td>0</td>\n",
       "      <td>0</td>\n",
       "      <td>79</td>\n",
       "      <td>1</td>\n",
       "      <td>1</td>\n",
       "      <td>1.0</td>\n",
       "      <td>119.0</td>\n",
       "    </tr>\n",
       "    <tr>\n",
       "      <th>2440</th>\n",
       "      <td>33</td>\n",
       "      <td>2</td>\n",
       "      <td>NaN</td>\n",
       "      <td>22.0</td>\n",
       "      <td>2</td>\n",
       "      <td>0</td>\n",
       "      <td>0</td>\n",
       "      <td>0</td>\n",
       "      <td>0</td>\n",
       "      <td>4.155498</td>\n",
       "      <td>0</td>\n",
       "      <td>3</td>\n",
       "      <td>36.0</td>\n",
       "      <td>0</td>\n",
       "      <td>0</td>\n",
       "      <td>162</td>\n",
       "      <td>1</td>\n",
       "      <td>1</td>\n",
       "      <td>4.0</td>\n",
       "      <td>213.0</td>\n",
       "    </tr>\n",
       "  </tbody>\n",
       "</table>\n",
       "<p>447 rows × 20 columns</p>\n",
       "</div>"
      ],
      "text/plain": [
       "      url_len  url_num_hyphens_dom  url_path_len  url_domain_len  \\\n",
       "2          44                    0           NaN            20.0   \n",
       "4          43                    2           NaN            26.0   \n",
       "19         45                    1           NaN            12.0   \n",
       "21         22                    1           NaN             NaN   \n",
       "26         33                    0           NaN            17.0   \n",
       "...       ...                  ...           ...             ...   \n",
       "2431       25                    1           NaN            24.0   \n",
       "2433       45                    2           NaN            45.0   \n",
       "2435       45                    3           NaN            35.0   \n",
       "2436       63                    0           NaN            17.0   \n",
       "2440       33                    2           NaN            22.0   \n",
       "\n",
       "      url_num_dots  url_num_underscores  url_query_len  url_num_query_para  \\\n",
       "2                3                    3              0                   0   \n",
       "4                2                    0              0                   0   \n",
       "19               4                    0              0                   0   \n",
       "21               2                    0              0                   0   \n",
       "26               4                    0              0                   0   \n",
       "...            ...                  ...            ...                 ...   \n",
       "2431             2                    0              0                   0   \n",
       "2433             2                    0              0                   0   \n",
       "2435             3                    0              0                   0   \n",
       "2436             4                    2              0                   0   \n",
       "2440             2                    0              0                   0   \n",
       "\n",
       "      url_ip_present  url_entropy  url_port  html_num_tags('iframe')  \\\n",
       "2                  0     4.612835         0                        0   \n",
       "4                  0     4.240669         0                        0   \n",
       "19                 0     4.556021         0                        0   \n",
       "21                 0     3.909368         0                        1   \n",
       "26                 0     3.996439         0                        0   \n",
       "...              ...          ...       ...                      ...   \n",
       "2431               0     4.226410         0                        0   \n",
       "2433               0     4.051428         0                        0   \n",
       "2435               0     4.314829         0                        0   \n",
       "2436               0     4.738082         0                        1   \n",
       "2440               0     4.155498         0                        3   \n",
       "\n",
       "      html_num_tags('script')  html_num_tags('embed')  \\\n",
       "2                         6.0                       3   \n",
       "4                         NaN                       0   \n",
       "19                        0.0                       0   \n",
       "21                        5.0                       0   \n",
       "26                       12.0                       0   \n",
       "...                       ...                     ...   \n",
       "2431                      0.0                       0   \n",
       "2433                      1.0                       0   \n",
       "2435                      2.0                       0   \n",
       "2436                     18.0                       0   \n",
       "2440                     36.0                       0   \n",
       "\n",
       "      html_num_tags('object')  html_num_tags('div')  html_num_tags('head')  \\\n",
       "2                           3                    34                      1   \n",
       "4                           0                    41                      1   \n",
       "19                          0                     0                      1   \n",
       "21                          0                    28                      1   \n",
       "26                          0                    37                      1   \n",
       "...                       ...                   ...                    ...   \n",
       "2431                        0                     2                      1   \n",
       "2433                        0                    72                      1   \n",
       "2435                        0                    41                      1   \n",
       "2436                        0                    79                      1   \n",
       "2440                        0                   162                      1   \n",
       "\n",
       "      html_num_tags('body')  html_num_tags('form')  html_num_tags('a')  \n",
       "2                         1                    0.0               136.0  \n",
       "4                         1                    NaN                 NaN  \n",
       "19                        1                    NaN                 NaN  \n",
       "21                        1                    0.0                31.0  \n",
       "26                        1                    0.0                79.0  \n",
       "...                     ...                    ...                 ...  \n",
       "2431                      1                    1.0                 0.0  \n",
       "2433                      1                    0.0                20.0  \n",
       "2435                      1                    1.0                18.0  \n",
       "2436                      1                    1.0               119.0  \n",
       "2440                      1                    4.0               213.0  \n",
       "\n",
       "[447 rows x 20 columns]"
      ]
     },
     "execution_count": 171,
     "metadata": {},
     "output_type": "execute_result"
    }
   ],
   "source": [
    "test.loc[(test['url_query_len'] == 0) & (test['url_num_query_para'] == 0) & test[\"url_path_len\"].isna()]\n",
    "test.loc[(test['url_query_len'] == 0) & test[\"url_path_len\"].isna()]\n",
    "# test.loc[(test['url_query_len'] == 0) & test[\"url_path_len\"].isna(), 'url_path_len'] = 33"
   ]
  },
  {
   "cell_type": "code",
   "execution_count": 146,
   "metadata": {},
   "outputs": [],
   "source": [
    "test['url_path_len'] = test['url_path_len'].fillna(27)"
   ]
  },
  {
   "cell_type": "code",
   "execution_count": 147,
   "metadata": {},
   "outputs": [],
   "source": [
    "test.loc[(test['url_query_len'] == 0) & test[\"html_num_tags('script')\"].isna()]\n",
    "test.loc[(test['url_query_len'] == 0) & test[\"html_num_tags('script')\"].isna(), \"html_num_tags('script')\"] = 17"
   ]
  },
  {
   "cell_type": "code",
   "execution_count": 148,
   "metadata": {},
   "outputs": [],
   "source": [
    "test[\"html_num_tags('script')\"] = test[\"html_num_tags('script')\"].fillna(7)"
   ]
  },
  {
   "cell_type": "code",
   "execution_count": 149,
   "metadata": {},
   "outputs": [],
   "source": [
    "test.loc[(test['url_query_len'] == 0) & test[\"html_num_tags('a')\"].isna()]\n",
    "test.loc[(test['url_query_len'] == 0) & test[\"html_num_tags('a')\"].isna(), \"html_num_tags('a')\"] = 100"
   ]
  },
  {
   "cell_type": "code",
   "execution_count": 150,
   "metadata": {},
   "outputs": [],
   "source": [
    "test[\"html_num_tags('a')\"] = test[\"html_num_tags('a')\"].fillna(18)"
   ]
  },
  {
   "cell_type": "code",
   "execution_count": 122,
   "metadata": {},
   "outputs": [
    {
     "data": {
      "text/html": [
       "<div>\n",
       "<style scoped>\n",
       "    .dataframe tbody tr th:only-of-type {\n",
       "        vertical-align: middle;\n",
       "    }\n",
       "\n",
       "    .dataframe tbody tr th {\n",
       "        vertical-align: top;\n",
       "    }\n",
       "\n",
       "    .dataframe thead th {\n",
       "        text-align: right;\n",
       "    }\n",
       "</style>\n",
       "<table border=\"1\" class=\"dataframe\">\n",
       "  <thead>\n",
       "    <tr style=\"text-align: right;\">\n",
       "      <th></th>\n",
       "      <th>url_len</th>\n",
       "      <th>url_num_hyphens_dom</th>\n",
       "      <th>url_path_len</th>\n",
       "      <th>url_domain_len</th>\n",
       "      <th>url_num_dots</th>\n",
       "      <th>url_num_underscores</th>\n",
       "      <th>url_query_len</th>\n",
       "      <th>url_num_query_para</th>\n",
       "      <th>url_ip_present</th>\n",
       "      <th>url_entropy</th>\n",
       "      <th>url_port</th>\n",
       "      <th>html_num_tags('iframe')</th>\n",
       "      <th>html_num_tags('script')</th>\n",
       "      <th>html_num_tags('embed')</th>\n",
       "      <th>html_num_tags('object')</th>\n",
       "      <th>html_num_tags('div')</th>\n",
       "      <th>html_num_tags('head')</th>\n",
       "      <th>html_num_tags('body')</th>\n",
       "      <th>html_num_tags('form')</th>\n",
       "      <th>html_num_tags('a')</th>\n",
       "    </tr>\n",
       "  </thead>\n",
       "  <tbody>\n",
       "  </tbody>\n",
       "</table>\n",
       "</div>"
      ],
      "text/plain": [
       "Empty DataFrame\n",
       "Columns: [url_len, url_num_hyphens_dom, url_path_len, url_domain_len, url_num_dots, url_num_underscores, url_query_len, url_num_query_para, url_ip_present, url_entropy, url_port, html_num_tags('iframe'), html_num_tags('script'), html_num_tags('embed'), html_num_tags('object'), html_num_tags('div'), html_num_tags('head'), html_num_tags('body'), html_num_tags('form'), html_num_tags('a')]\n",
       "Index: []"
      ]
     },
     "execution_count": 122,
     "metadata": {},
     "output_type": "execute_result"
    }
   ],
   "source": [
    "test.loc[(test['url_domain_len'] == 0) & test[\"url_domain_len\"].isna()]\n",
    "# test.loc[(test['url_domain_len'] == 0) & test[\"url_domain_len\"].isna(), \"url_domain_len\"] = 100"
   ]
  },
  {
   "cell_type": "code",
   "execution_count": 151,
   "metadata": {},
   "outputs": [],
   "source": [
    "test.loc[(test['url_query_len'] == 0) & test[\"html_num_tags('form')\"].isna()]\n",
    "test.loc[(test['url_query_len'] == 0) & test[\"html_num_tags('form')\"].isna(), \"html_num_tags('form')\"] = 2"
   ]
  },
  {
   "cell_type": "code",
   "execution_count": null,
   "metadata": {},
   "outputs": [],
   "source": [
    "test.loc[(test['url_num_hyphens_dom'] <= 1) & (test[\"html_num_tags('div')\"] >= 60) & test[\"url_path_len\"].isna()]\n",
    "test.loc[(test['url_num_hyphens_dom'] >= 1) & (test[\"html_num_tags('div')\"] <= 50) & test[\"url_path_len\"].isna()]\n",
    "test.loc[(test['url_num_hyphens_dom'] <= 1) & (test[\"html_num_tags('div')\"] >= 60) & test[\"html_num_tags('script')\"].isna()]\n",
    "test.loc[(test['url_num_hyphens_dom'] >= 1) & (test[\"html_num_tags('div')\"] <= 50) & test[\"html_num_tags('script')\"].isna()]\n",
    "test.loc[(test['url_num_hyphens_dom'] <= 1) & (test[\"html_num_tags('div')\"] >= 60) & test[\"html_num_tags('a')\"].isna()]\n",
    "test.loc[(test['url_num_hyphens_dom'] >= 1) & (test[\"html_num_tags('div')\"] <= 50) & test[\"html_num_tags('a')\"].isna()]"
   ]
  },
  {
   "cell_type": "code",
   "execution_count": 81,
   "metadata": {},
   "outputs": [],
   "source": [
    "test.loc[(test['url_num_hyphens_dom'] <= 1) & (test[\"html_num_tags('div')\"] >= 60) & test[\"url_path_len\"].isna()]\n",
    "test.loc[(test['url_num_hyphens_dom'] <= 1) & (test[\"html_num_tags('div')\"] >= 60) & test[\"url_path_len\"].isna(), \"url_path_len\"] = 37"
   ]
  },
  {
   "cell_type": "code",
   "execution_count": 82,
   "metadata": {},
   "outputs": [],
   "source": [
    "test.loc[(test['url_num_hyphens_dom'] >= 1) & (test[\"html_num_tags('div')\"] <= 50) & test[\"url_path_len\"].isna()]\n",
    "test.loc[(test['url_num_hyphens_dom'] >= 1) & (test[\"html_num_tags('div')\"] <= 50) & test[\"url_path_len\"].isna(), \"url_path_len\"] = 21"
   ]
  },
  {
   "cell_type": "code",
   "execution_count": 91,
   "metadata": {},
   "outputs": [],
   "source": [
    "test.loc[(test['url_num_hyphens_dom'] <= 1) & (test[\"html_num_tags('div')\"] >= 60) & test[\"url_domain_len\"].isna()]\n",
    "test.loc[(test['url_num_hyphens_dom'] <= 1) & (test[\"html_num_tags('div')\"] >= 60) & test[\"url_domain_len\"].isna(), \"url_domain_len\"] = 18"
   ]
  },
  {
   "cell_type": "code",
   "execution_count": 92,
   "metadata": {},
   "outputs": [],
   "source": [
    "test.loc[(test['url_num_hyphens_dom'] >= 1) & (test[\"html_num_tags('div')\"] <= 50) & test[\"url_domain_len\"].isna()]\n",
    "test.loc[(test['url_num_hyphens_dom'] >= 1) & (test[\"html_num_tags('div')\"] <= 50) & test[\"url_domain_len\"].isna(), \"url_domain_len\"] = 29"
   ]
  },
  {
   "cell_type": "code",
   "execution_count": 93,
   "metadata": {},
   "outputs": [],
   "source": [
    "test.loc[(test['url_num_hyphens_dom'] <= 1) & (test[\"html_num_tags('div')\"] >= 60) & test[\"html_num_tags('script')\"].isna()]\n",
    "test.loc[(test['url_num_hyphens_dom'] <= 1) & (test[\"html_num_tags('div')\"] >= 60) & test[\"html_num_tags('script')\"].isna(), \"html_num_tags('script')\"] = 17"
   ]
  },
  {
   "cell_type": "code",
   "execution_count": 94,
   "metadata": {},
   "outputs": [],
   "source": [
    "test.loc[(test['url_num_hyphens_dom'] >= 1) & (test[\"html_num_tags('div')\"] <= 50) & test[\"html_num_tags('script')\"].isna()]\n",
    "test.loc[(test['url_num_hyphens_dom'] >= 1) & (test[\"html_num_tags('div')\"] <= 50) & test[\"html_num_tags('script')\"].isna(), \"html_num_tags('script')\"] = 7"
   ]
  },
  {
   "cell_type": "code",
   "execution_count": 95,
   "metadata": {},
   "outputs": [],
   "source": [
    "test.loc[(test['url_num_hyphens_dom'] <= 1) & (test[\"html_num_tags('div')\"] >= 60) & test[\"html_num_tags('a')\"].isna()]\n",
    "test.loc[(test['url_num_hyphens_dom'] <= 1) & (test[\"html_num_tags('div')\"] >= 60) & test[\"html_num_tags('a')\"].isna(), \"html_num_tags('a')\"] = 100"
   ]
  },
  {
   "cell_type": "code",
   "execution_count": 96,
   "metadata": {},
   "outputs": [],
   "source": [
    "test.loc[(test['url_num_hyphens_dom'] <= 1) & (test[\"html_num_tags('div')\"] <= 50) & test[\"html_num_tags('a')\"].isna()]\n",
    "test.loc[(test['url_num_hyphens_dom'] <= 1) & (test[\"html_num_tags('div')\"] <= 50) & test[\"html_num_tags('a')\"].isna(), \"html_num_tags('a')\"] = 23"
   ]
  },
  {
   "cell_type": "code",
   "execution_count": 163,
   "metadata": {},
   "outputs": [
    {
     "data": {
      "image/png": "[encoded data removed]",
      "text/plain": [
       "<Figure size 432x288 with 1 Axes>"
      ]
     },
     "metadata": {
      "needs_background": "light"
     },
     "output_type": "display_data"
    }
   ],
   "source": [
    "# 노선, 정류장 상관관계\n",
    "sns.regplot(data=test, x='url_query_len', y=\"url_path_len\")\n",
    "plt.show()"
   ]
  },
  {
   "cell_type": "code",
   "execution_count": 162,
   "metadata": {},
   "outputs": [
    {
     "data": {
      "image/png": "[encoded data removed]",
      "text/plain": [
       "<Figure size 432x288 with 1 Axes>"
      ]
     },
     "metadata": {
      "needs_background": "light"
     },
     "output_type": "display_data"
    }
   ],
   "source": [
    "# 노선, 정류장 상관관계\n",
    "sns.regplot(data=test, x='url_query_len', y=\"url_domain_len\")\n",
    "plt.show()"
   ]
  },
  {
   "cell_type": "code",
   "execution_count": 164,
   "metadata": {},
   "outputs": [
    {
     "data": {
      "image/png": "[encoded data removed]",
      "text/plain": [
       "<Figure size 432x288 with 1 Axes>"
      ]
     },
     "metadata": {
      "needs_background": "light"
     },
     "output_type": "display_data"
    }
   ],
   "source": [
    "# 노선, 정류장 상관관계\n",
    "sns.regplot(data=test, x='url_query_len', y=\"html_num_tags('script')\")\n",
    "plt.show()"
   ]
  },
  {
   "cell_type": "code",
   "execution_count": 155,
   "metadata": {},
   "outputs": [
    {
     "data": {
      "text/plain": [
       "url_len                    0\n",
       "url_num_hyphens_dom        0\n",
       "url_path_len               0\n",
       "url_domain_len             0\n",
       "url_num_dots               0\n",
       "url_num_underscores        0\n",
       "url_query_len              0\n",
       "url_num_query_para         0\n",
       "url_ip_present             0\n",
       "url_entropy                0\n",
       "url_port                   0\n",
       "html_num_tags('iframe')    0\n",
       "html_num_tags('script')    0\n",
       "html_num_tags('embed')     0\n",
       "html_num_tags('object')    0\n",
       "html_num_tags('div')       0\n",
       "html_num_tags('head')      0\n",
       "html_num_tags('body')      0\n",
       "html_num_tags('form')      0\n",
       "html_num_tags('a')         0\n",
       "dtype: int64"
      ]
     },
     "execution_count": 155,
     "metadata": {},
     "output_type": "execute_result"
    }
   ],
   "source": [
    "test.isna().sum()"
   ]
  },
  {
   "cell_type": "code",
   "execution_count": 137,
   "metadata": {},
   "outputs": [
    {
     "data": {
      "text/plain": [
       "array([ 1., nan,  0.,  3.,  4.,  2.,  5., 12., 19.,  6.,  7.])"
      ]
     },
     "execution_count": 137,
     "metadata": {},
     "output_type": "execute_result"
    }
   ],
   "source": [
    "test[\"html_num_tags('form')\"].unique()"
   ]
  },
  {
   "cell_type": "code",
   "execution_count": 136,
   "metadata": {},
   "outputs": [
    {
     "data": {
      "text/plain": [
       "(2441, 24)"
      ]
     },
     "execution_count": 136,
     "metadata": {},
     "output_type": "execute_result"
    }
   ],
   "source": [
    "test.shape"
   ]
  },
  {
   "cell_type": "code",
   "execution_count": 138,
   "metadata": {},
   "outputs": [
    {
     "data": {
      "text/plain": [
       "html_num_tags('form')\n",
       "0.0     643\n",
       "1.0     979\n",
       "2.0     222\n",
       "3.0      68\n",
       "4.0      24\n",
       "5.0      19\n",
       "6.0       3\n",
       "7.0      12\n",
       "12.0      1\n",
       "19.0      3\n",
       "Name: Unnamed: 0, dtype: int64"
      ]
     },
     "execution_count": 138,
     "metadata": {},
     "output_type": "execute_result"
    }
   ],
   "source": [
    "test.groupby(by=\"html_num_tags('form')\")['Unnamed: 0'].count()"
   ]
  },
  {
   "cell_type": "code",
   "execution_count": 156,
   "metadata": {},
   "outputs": [],
   "source": [
    "test.to_csv('test_val_4.csv', index=False)"
   ]
  },
  {
   "cell_type": "code",
   "execution_count": 172,
   "metadata": {},
   "outputs": [],
   "source": [
    "data = pd.read_csv('train_dataset.csv')"
   ]
  },
  {
   "cell_type": "code",
   "execution_count": null,
   "metadata": {},
   "outputs": [],
   "source": []
  },
  {
   "cell_type": "code",
   "execution_count": 174,
   "metadata": {},
   "outputs": [
    {
     "data": {
      "image/png": "[encoded data removed]",
      "text/plain": [
       "<Figure size 432x288 with 1 Axes>"
      ]
     },
     "metadata": {
      "needs_background": "light"
     },
     "output_type": "display_data"
    }
   ],
   "source": [
    "# 노선, 정류장 상관관계\n",
    "sns.regplot(data=data, y='url_num_hyphens_dom', x=\"url_path_len\")\n",
    "plt.show()"
   ]
  },
  {
   "cell_type": "code",
   "execution_count": null,
   "metadata": {},
   "outputs": [],
   "source": []
  }
 ],
 "metadata": {
  "kernelspec": {
   "display_name": "Python 3.9.12 ('base')",
   "language": "python",
   "name": "python3"
  },
  "language_info": {
   "codemirror_mode": {
    "name": "ipython",
    "version": 3
   },
   "file_extension": ".py",
   "mimetype": "text/x-python",
   "name": "python",
   "nbconvert_exporter": "python",
   "pygments_lexer": "ipython3",
   "version": "3.9.12"
  },
  "orig_nbformat": 4,
  "vscode": {
   "interpreter": {
    "hash": "5f7678e3cf7566e35dc0bd53f9a2e61d18c90ac4f700ab60c30179035bddd9e2"
   }
  }
 },
 "nbformat": 4,
 "nbformat_minor": 2
}
