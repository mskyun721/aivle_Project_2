{
 "cells": [
  {
   "cell_type": "markdown",
   "metadata": {},
   "source": [
    "## [미니프로젝트] 악성사이트 탐지 머신러닝 모델 개발\n",
    "\n",
    "## <b>[2단계] 데이터 분석 및 전처리\n",
    "\n",
    "## ▣ 데이터 소개\n",
    "* 학습 데이터셋 : train_dataset.csv\n",
    "<br>\n",
    "\n",
    "## ▣ 학습 데이터셋의 변수 소개\n",
    "\n",
    "* url_len : URL 길이\n",
    "* url_num_hypens_dom : URL내 '-'(하이픈) 개수\n",
    "* url_path_len : URL의 경로 길이\n",
    "* url_domain_len : URL의 도메인 길이\n",
    "* url_host_name : URL의 hostname 길이\n",
    "* url_num_dots : URL내 '.'(닷) 개수\n",
    "* url_num_underscores : URL내 '_'(언더바) 개수\n",
    "* url_query_len : URL쿼리 길이\n",
    "* url_num_query_para : URL쿼리의 파라미터 개수\n",
    "* url_ip_present : URL내 IP표시 여부\n",
    "* url_entropy : URL 복잡도\n",
    "* url_chinese_present : URL내 중국어 표기 여부\n",
    "* url_port : URL내 포트 표기 여부\n",
    "* html_num_tags('iframe') : HTML내 'iframe' 태그 개수\n",
    "* html_num_tags('script') : HTML내 'script' 태그 개수\n",
    "* html_num_tags('embed') : HTML내 'embed' 태그 개수\n",
    "* html_num_tags('object') : HTML내 'object' 태그 개수\n",
    "* html_num_tags('div') : HTML내 'div' 태그 개수\n",
    "* html_num_tags('head') : HTML내 'head' 태그 개수\n",
    "* html_num_tags('body') : HTML내 'body' 태그 개수\n",
    "* html_num_tags('form') : HTML내 'form' 태그 개수\n",
    "* html_num_tags('a') : HTML내 'a' 태그 개수\n",
    "* html_num_tags('applet') : HTML내 'applet' 태그 개수\n",
    "* Result_v1 : 악성사이트 여부 컬럼 ( 'malicious'는 악성사이트, 'benign'은 정상사이트 )\n",
    "\n",
    "<br>\n",
    "\n",
    "---\n",
    "\n",
    "### **[프로세스]**\n",
    "0. 라이브러리 import 및 데이터 불러오기\n",
    "1. 데이터 분석하기\n",
    "2. 데이터 전처리하기\n",
    "\n",
    "\n",
    "---"
   ]
  },
  {
   "cell_type": "markdown",
   "metadata": {},
   "source": [
    "# <b>Step 0. 라이브러리 import 및 데이터 불러오기\n",
    "### **가. 라이브러리 import**"
   ]
  },
  {
   "cell_type": "code",
   "execution_count": 1,
   "metadata": {},
   "outputs": [],
   "source": [
    "import numpy as np\n",
    "import pandas as pd\n",
    "import matplotlib.pyplot as plt\n",
    "import seaborn as sns\n",
    "import requests, json\n",
    "\n",
    "from sklearn.metrics import *\n",
    "from sklearn.model_selection import train_test_split\n",
    "from sklearn.preprocessing import *\n",
    "from sklearn.model_selection import GridSearchCV, RandomizedSearchCV\n",
    "\n",
    "# 크롤링\n",
    "from bs4 import BeautifulSoup\n",
    "import openpyxl\n",
    "\n",
    "# Linear, Logistic\n",
    "from sklearn.linear_model import LinearRegression, LogisticRegression\n",
    "\n",
    "# knn\n",
    "from sklearn.neighbors import KNeighborsClassifier, KNeighborsRegressor\n",
    "\n",
    "# decision\n",
    "from sklearn.tree import DecisionTreeClassifier, DecisionTreeRegressor\n",
    "\n",
    "# svm\n",
    "from sklearn.svm import SVC, SVR\n",
    "\n",
    "# bagging\n",
    "from sklearn.ensemble import RandomForestClassifier, RandomForestRegressor\n",
    "\n",
    "# boosting\n",
    "from xgboost import XGBClassifier, XGBRegressor"
   ]
  },
  {
   "cell_type": "markdown",
   "metadata": {},
   "source": [
    "### **나.  학습데이터 불러오기**"
   ]
  },
  {
   "cell_type": "code",
   "execution_count": 2,
   "metadata": {},
   "outputs": [],
   "source": [
    "data = pd.read_csv('train_dataset.csv')"
   ]
  },
  {
   "cell_type": "code",
   "execution_count": 3,
   "metadata": {},
   "outputs": [],
   "source": [
    "target = 'Result_v1'"
   ]
  },
  {
   "cell_type": "markdown",
   "metadata": {},
   "source": [
    "# <b>Step 1. 데이터 분석하기\n",
    "---"
   ]
  },
  {
   "cell_type": "markdown",
   "metadata": {},
   "source": [
    "단변량 분석은 데이터분석의 매우 기초적인 분석기법으로, 독립적인 개별 변수가 가지고있는 특성들을 이해하는 과정입니다.\n",
    "\n",
    "## <b>Q1. 데이터 단변량 분석하기\n",
    "\n",
    "<span style=\"color: green\"> 개별 변수에 대해 아래 사항들을 분석해보세요. </span>\n",
    "\n",
    "1. 변수가 내포하고 있는 의미\n",
    "2. 변수가 수치형인지, 범주형인지\n",
    "3. 결측치 존재 여부 및 조치 방안\n",
    "4. 기초 통계량 확인\n",
    "5. 데이터 분포 확인\n",
    "6. 위 정보로부터 파악한 내용 정리\n",
    "7. 추가 분석사항 도출"
   ]
  },
  {
   "cell_type": "markdown",
   "metadata": {},
   "source": [
    "* 데이터 정보"
   ]
  },
  {
   "cell_type": "code",
   "execution_count": 4,
   "metadata": {},
   "outputs": [
    {
     "data": {
      "text/html": [
       "<div>\n",
       "<style scoped>\n",
       "    .dataframe tbody tr th:only-of-type {\n",
       "        vertical-align: middle;\n",
       "    }\n",
       "\n",
       "    .dataframe tbody tr th {\n",
       "        vertical-align: top;\n",
       "    }\n",
       "\n",
       "    .dataframe thead th {\n",
       "        text-align: right;\n",
       "    }\n",
       "</style>\n",
       "<table border=\"1\" class=\"dataframe\">\n",
       "  <thead>\n",
       "    <tr style=\"text-align: right;\">\n",
       "      <th></th>\n",
       "      <th>Unnamed: 0</th>\n",
       "      <th>url_len</th>\n",
       "      <th>url_num_hyphens_dom</th>\n",
       "      <th>url_path_len</th>\n",
       "      <th>url_domain_len</th>\n",
       "      <th>url_hostname_len</th>\n",
       "      <th>url_num_dots</th>\n",
       "      <th>url_num_underscores</th>\n",
       "      <th>url_query_len</th>\n",
       "      <th>url_num_query_para</th>\n",
       "      <th>...</th>\n",
       "      <th>html_num_tags('script')</th>\n",
       "      <th>html_num_tags('embed')</th>\n",
       "      <th>html_num_tags('object')</th>\n",
       "      <th>html_num_tags('div')</th>\n",
       "      <th>html_num_tags('head')</th>\n",
       "      <th>html_num_tags('body')</th>\n",
       "      <th>html_num_tags('form')</th>\n",
       "      <th>html_num_tags('a')</th>\n",
       "      <th>html_num_tags('applet')</th>\n",
       "      <th>Result_v1</th>\n",
       "    </tr>\n",
       "  </thead>\n",
       "  <tbody>\n",
       "    <tr>\n",
       "      <th>0</th>\n",
       "      <td>0</td>\n",
       "      <td>23.0</td>\n",
       "      <td>0.0</td>\n",
       "      <td>8.0</td>\n",
       "      <td>15.0</td>\n",
       "      <td>15.0</td>\n",
       "      <td>2.0</td>\n",
       "      <td>0.0</td>\n",
       "      <td>0.0</td>\n",
       "      <td>0.0</td>\n",
       "      <td>...</td>\n",
       "      <td>7.0</td>\n",
       "      <td>0.0</td>\n",
       "      <td>0.0</td>\n",
       "      <td>0.0</td>\n",
       "      <td>1.0</td>\n",
       "      <td>1.0</td>\n",
       "      <td>0.0</td>\n",
       "      <td>0.0</td>\n",
       "      <td>0.0</td>\n",
       "      <td>malicious</td>\n",
       "    </tr>\n",
       "    <tr>\n",
       "      <th>1</th>\n",
       "      <td>1</td>\n",
       "      <td>75.0</td>\n",
       "      <td>0.0</td>\n",
       "      <td>58.0</td>\n",
       "      <td>17.0</td>\n",
       "      <td>17.0</td>\n",
       "      <td>6.0</td>\n",
       "      <td>0.0</td>\n",
       "      <td>0.0</td>\n",
       "      <td>0.0</td>\n",
       "      <td>...</td>\n",
       "      <td>18.0</td>\n",
       "      <td>0.0</td>\n",
       "      <td>0.0</td>\n",
       "      <td>20.0</td>\n",
       "      <td>1.0</td>\n",
       "      <td>1.0</td>\n",
       "      <td>0.0</td>\n",
       "      <td>21.0</td>\n",
       "      <td>0.0</td>\n",
       "      <td>benign</td>\n",
       "    </tr>\n",
       "    <tr>\n",
       "      <th>2</th>\n",
       "      <td>2</td>\n",
       "      <td>20.0</td>\n",
       "      <td>0.0</td>\n",
       "      <td>4.0</td>\n",
       "      <td>16.0</td>\n",
       "      <td>16.0</td>\n",
       "      <td>2.0</td>\n",
       "      <td>0.0</td>\n",
       "      <td>0.0</td>\n",
       "      <td>0.0</td>\n",
       "      <td>...</td>\n",
       "      <td>33.0</td>\n",
       "      <td>0.0</td>\n",
       "      <td>0.0</td>\n",
       "      <td>101.0</td>\n",
       "      <td>1.0</td>\n",
       "      <td>1.0</td>\n",
       "      <td>3.0</td>\n",
       "      <td>70.0</td>\n",
       "      <td>0.0</td>\n",
       "      <td>benign</td>\n",
       "    </tr>\n",
       "    <tr>\n",
       "      <th>3</th>\n",
       "      <td>3</td>\n",
       "      <td>27.0</td>\n",
       "      <td>0.0</td>\n",
       "      <td>13.0</td>\n",
       "      <td>14.0</td>\n",
       "      <td>14.0</td>\n",
       "      <td>3.0</td>\n",
       "      <td>0.0</td>\n",
       "      <td>0.0</td>\n",
       "      <td>0.0</td>\n",
       "      <td>...</td>\n",
       "      <td>15.0</td>\n",
       "      <td>0.0</td>\n",
       "      <td>0.0</td>\n",
       "      <td>151.0</td>\n",
       "      <td>1.0</td>\n",
       "      <td>1.0</td>\n",
       "      <td>1.0</td>\n",
       "      <td>55.0</td>\n",
       "      <td>0.0</td>\n",
       "      <td>benign</td>\n",
       "    </tr>\n",
       "    <tr>\n",
       "      <th>4</th>\n",
       "      <td>4</td>\n",
       "      <td>39.0</td>\n",
       "      <td>2.0</td>\n",
       "      <td>12.0</td>\n",
       "      <td>27.0</td>\n",
       "      <td>27.0</td>\n",
       "      <td>2.0</td>\n",
       "      <td>0.0</td>\n",
       "      <td>0.0</td>\n",
       "      <td>0.0</td>\n",
       "      <td>...</td>\n",
       "      <td>10.0</td>\n",
       "      <td>0.0</td>\n",
       "      <td>0.0</td>\n",
       "      <td>332.0</td>\n",
       "      <td>1.0</td>\n",
       "      <td>1.0</td>\n",
       "      <td>0.0</td>\n",
       "      <td>321.0</td>\n",
       "      <td>0.0</td>\n",
       "      <td>benign</td>\n",
       "    </tr>\n",
       "    <tr>\n",
       "      <th>...</th>\n",
       "      <td>...</td>\n",
       "      <td>...</td>\n",
       "      <td>...</td>\n",
       "      <td>...</td>\n",
       "      <td>...</td>\n",
       "      <td>...</td>\n",
       "      <td>...</td>\n",
       "      <td>...</td>\n",
       "      <td>...</td>\n",
       "      <td>...</td>\n",
       "      <td>...</td>\n",
       "      <td>...</td>\n",
       "      <td>...</td>\n",
       "      <td>...</td>\n",
       "      <td>...</td>\n",
       "      <td>...</td>\n",
       "      <td>...</td>\n",
       "      <td>...</td>\n",
       "      <td>...</td>\n",
       "      <td>...</td>\n",
       "      <td>...</td>\n",
       "    </tr>\n",
       "    <tr>\n",
       "      <th>3659</th>\n",
       "      <td>3659</td>\n",
       "      <td>68.0</td>\n",
       "      <td>3.0</td>\n",
       "      <td>16.0</td>\n",
       "      <td>52.0</td>\n",
       "      <td>52.0</td>\n",
       "      <td>2.0</td>\n",
       "      <td>0.0</td>\n",
       "      <td>0.0</td>\n",
       "      <td>0.0</td>\n",
       "      <td>...</td>\n",
       "      <td>0.0</td>\n",
       "      <td>0.0</td>\n",
       "      <td>0.0</td>\n",
       "      <td>11.0</td>\n",
       "      <td>1.0</td>\n",
       "      <td>1.0</td>\n",
       "      <td>0.0</td>\n",
       "      <td>3.0</td>\n",
       "      <td>0.0</td>\n",
       "      <td>malicious</td>\n",
       "    </tr>\n",
       "    <tr>\n",
       "      <th>3660</th>\n",
       "      <td>3660</td>\n",
       "      <td>66.0</td>\n",
       "      <td>0.0</td>\n",
       "      <td>48.0</td>\n",
       "      <td>18.0</td>\n",
       "      <td>18.0</td>\n",
       "      <td>2.0</td>\n",
       "      <td>0.0</td>\n",
       "      <td>0.0</td>\n",
       "      <td>0.0</td>\n",
       "      <td>...</td>\n",
       "      <td>14.0</td>\n",
       "      <td>0.0</td>\n",
       "      <td>0.0</td>\n",
       "      <td>212.0</td>\n",
       "      <td>1.0</td>\n",
       "      <td>1.0</td>\n",
       "      <td>3.0</td>\n",
       "      <td>475.0</td>\n",
       "      <td>0.0</td>\n",
       "      <td>benign</td>\n",
       "    </tr>\n",
       "    <tr>\n",
       "      <th>3661</th>\n",
       "      <td>3661</td>\n",
       "      <td>90.0</td>\n",
       "      <td>1.0</td>\n",
       "      <td>64.0</td>\n",
       "      <td>26.0</td>\n",
       "      <td>26.0</td>\n",
       "      <td>4.0</td>\n",
       "      <td>0.0</td>\n",
       "      <td>0.0</td>\n",
       "      <td>0.0</td>\n",
       "      <td>...</td>\n",
       "      <td>13.0</td>\n",
       "      <td>0.0</td>\n",
       "      <td>0.0</td>\n",
       "      <td>75.0</td>\n",
       "      <td>1.0</td>\n",
       "      <td>1.0</td>\n",
       "      <td>2.0</td>\n",
       "      <td>103.0</td>\n",
       "      <td>0.0</td>\n",
       "      <td>malicious</td>\n",
       "    </tr>\n",
       "    <tr>\n",
       "      <th>3662</th>\n",
       "      <td>3662</td>\n",
       "      <td>46.0</td>\n",
       "      <td>0.0</td>\n",
       "      <td>33.0</td>\n",
       "      <td>13.0</td>\n",
       "      <td>13.0</td>\n",
       "      <td>3.0</td>\n",
       "      <td>0.0</td>\n",
       "      <td>0.0</td>\n",
       "      <td>0.0</td>\n",
       "      <td>...</td>\n",
       "      <td>0.0</td>\n",
       "      <td>0.0</td>\n",
       "      <td>0.0</td>\n",
       "      <td>4.0</td>\n",
       "      <td>1.0</td>\n",
       "      <td>1.0</td>\n",
       "      <td>0.0</td>\n",
       "      <td>3.0</td>\n",
       "      <td>0.0</td>\n",
       "      <td>benign</td>\n",
       "    </tr>\n",
       "    <tr>\n",
       "      <th>3663</th>\n",
       "      <td>3663</td>\n",
       "      <td>18.0</td>\n",
       "      <td>0.0</td>\n",
       "      <td>0.0</td>\n",
       "      <td>18.0</td>\n",
       "      <td>18.0</td>\n",
       "      <td>2.0</td>\n",
       "      <td>0.0</td>\n",
       "      <td>0.0</td>\n",
       "      <td>0.0</td>\n",
       "      <td>...</td>\n",
       "      <td>3.0</td>\n",
       "      <td>0.0</td>\n",
       "      <td>0.0</td>\n",
       "      <td>282.0</td>\n",
       "      <td>1.0</td>\n",
       "      <td>1.0</td>\n",
       "      <td>2.0</td>\n",
       "      <td>46.0</td>\n",
       "      <td>0.0</td>\n",
       "      <td>benign</td>\n",
       "    </tr>\n",
       "  </tbody>\n",
       "</table>\n",
       "<p>3664 rows × 25 columns</p>\n",
       "</div>"
      ],
      "text/plain": [
       "      Unnamed: 0  url_len  url_num_hyphens_dom  url_path_len  url_domain_len  \\\n",
       "0              0     23.0                  0.0           8.0            15.0   \n",
       "1              1     75.0                  0.0          58.0            17.0   \n",
       "2              2     20.0                  0.0           4.0            16.0   \n",
       "3              3     27.0                  0.0          13.0            14.0   \n",
       "4              4     39.0                  2.0          12.0            27.0   \n",
       "...          ...      ...                  ...           ...             ...   \n",
       "3659        3659     68.0                  3.0          16.0            52.0   \n",
       "3660        3660     66.0                  0.0          48.0            18.0   \n",
       "3661        3661     90.0                  1.0          64.0            26.0   \n",
       "3662        3662     46.0                  0.0          33.0            13.0   \n",
       "3663        3663     18.0                  0.0           0.0            18.0   \n",
       "\n",
       "      url_hostname_len  url_num_dots  url_num_underscores  url_query_len  \\\n",
       "0                 15.0           2.0                  0.0            0.0   \n",
       "1                 17.0           6.0                  0.0            0.0   \n",
       "2                 16.0           2.0                  0.0            0.0   \n",
       "3                 14.0           3.0                  0.0            0.0   \n",
       "4                 27.0           2.0                  0.0            0.0   \n",
       "...                ...           ...                  ...            ...   \n",
       "3659              52.0           2.0                  0.0            0.0   \n",
       "3660              18.0           2.0                  0.0            0.0   \n",
       "3661              26.0           4.0                  0.0            0.0   \n",
       "3662              13.0           3.0                  0.0            0.0   \n",
       "3663              18.0           2.0                  0.0            0.0   \n",
       "\n",
       "      url_num_query_para  ...  html_num_tags('script')  \\\n",
       "0                    0.0  ...                      7.0   \n",
       "1                    0.0  ...                     18.0   \n",
       "2                    0.0  ...                     33.0   \n",
       "3                    0.0  ...                     15.0   \n",
       "4                    0.0  ...                     10.0   \n",
       "...                  ...  ...                      ...   \n",
       "3659                 0.0  ...                      0.0   \n",
       "3660                 0.0  ...                     14.0   \n",
       "3661                 0.0  ...                     13.0   \n",
       "3662                 0.0  ...                      0.0   \n",
       "3663                 0.0  ...                      3.0   \n",
       "\n",
       "      html_num_tags('embed')  html_num_tags('object')  html_num_tags('div')  \\\n",
       "0                        0.0                      0.0                   0.0   \n",
       "1                        0.0                      0.0                  20.0   \n",
       "2                        0.0                      0.0                 101.0   \n",
       "3                        0.0                      0.0                 151.0   \n",
       "4                        0.0                      0.0                 332.0   \n",
       "...                      ...                      ...                   ...   \n",
       "3659                     0.0                      0.0                  11.0   \n",
       "3660                     0.0                      0.0                 212.0   \n",
       "3661                     0.0                      0.0                  75.0   \n",
       "3662                     0.0                      0.0                   4.0   \n",
       "3663                     0.0                      0.0                 282.0   \n",
       "\n",
       "      html_num_tags('head')  html_num_tags('body')  html_num_tags('form')  \\\n",
       "0                       1.0                    1.0                    0.0   \n",
       "1                       1.0                    1.0                    0.0   \n",
       "2                       1.0                    1.0                    3.0   \n",
       "3                       1.0                    1.0                    1.0   \n",
       "4                       1.0                    1.0                    0.0   \n",
       "...                     ...                    ...                    ...   \n",
       "3659                    1.0                    1.0                    0.0   \n",
       "3660                    1.0                    1.0                    3.0   \n",
       "3661                    1.0                    1.0                    2.0   \n",
       "3662                    1.0                    1.0                    0.0   \n",
       "3663                    1.0                    1.0                    2.0   \n",
       "\n",
       "      html_num_tags('a')  html_num_tags('applet')  Result_v1  \n",
       "0                    0.0                      0.0  malicious  \n",
       "1                   21.0                      0.0     benign  \n",
       "2                   70.0                      0.0     benign  \n",
       "3                   55.0                      0.0     benign  \n",
       "4                  321.0                      0.0     benign  \n",
       "...                  ...                      ...        ...  \n",
       "3659                 3.0                      0.0  malicious  \n",
       "3660               475.0                      0.0     benign  \n",
       "3661               103.0                      0.0  malicious  \n",
       "3662                 3.0                      0.0     benign  \n",
       "3663                46.0                      0.0     benign  \n",
       "\n",
       "[3664 rows x 25 columns]"
      ]
     },
     "execution_count": 4,
     "metadata": {},
     "output_type": "execute_result"
    }
   ],
   "source": [
    "data"
   ]
  },
  {
   "cell_type": "code",
   "execution_count": 5,
   "metadata": {},
   "outputs": [
    {
     "name": "stdout",
     "output_type": "stream",
     "text": [
      "<class 'pandas.core.frame.DataFrame'>\n",
      "RangeIndex: 3664 entries, 0 to 3663\n",
      "Data columns (total 25 columns):\n",
      " #   Column                   Non-Null Count  Dtype  \n",
      "---  ------                   --------------  -----  \n",
      " 0   Unnamed: 0               3664 non-null   int64  \n",
      " 1   url_len                  3664 non-null   float64\n",
      " 2   url_num_hyphens_dom      3664 non-null   float64\n",
      " 3   url_path_len             3663 non-null   float64\n",
      " 4   url_domain_len           3663 non-null   float64\n",
      " 5   url_hostname_len         3664 non-null   float64\n",
      " 6   url_num_dots             3664 non-null   float64\n",
      " 7   url_num_underscores      3664 non-null   float64\n",
      " 8   url_query_len            3664 non-null   float64\n",
      " 9   url_num_query_para       3664 non-null   float64\n",
      " 10  url_ip_present           3664 non-null   float64\n",
      " 11  url_entropy              3664 non-null   float64\n",
      " 12  url_chinese_present      3664 non-null   float64\n",
      " 13  url_port                 3664 non-null   float64\n",
      " 14  html_num_tags('iframe')  3664 non-null   float64\n",
      " 15  html_num_tags('script')  3664 non-null   float64\n",
      " 16  html_num_tags('embed')   3664 non-null   float64\n",
      " 17  html_num_tags('object')  3664 non-null   float64\n",
      " 18  html_num_tags('div')     3664 non-null   float64\n",
      " 19  html_num_tags('head')    3664 non-null   float64\n",
      " 20  html_num_tags('body')    3664 non-null   float64\n",
      " 21  html_num_tags('form')    3664 non-null   float64\n",
      " 22  html_num_tags('a')       3664 non-null   float64\n",
      " 23  html_num_tags('applet')  3664 non-null   float64\n",
      " 24  Result_v1                3664 non-null   object \n",
      "dtypes: float64(23), int64(1), object(1)\n",
      "memory usage: 715.8+ KB\n"
     ]
    }
   ],
   "source": [
    "data.info()"
   ]
  },
  {
   "cell_type": "markdown",
   "metadata": {},
   "source": [
    "* 기초통계량"
   ]
  },
  {
   "cell_type": "code",
   "execution_count": 6,
   "metadata": {},
   "outputs": [
    {
     "data": {
      "text/html": [
       "<div>\n",
       "<style scoped>\n",
       "    .dataframe tbody tr th:only-of-type {\n",
       "        vertical-align: middle;\n",
       "    }\n",
       "\n",
       "    .dataframe tbody tr th {\n",
       "        vertical-align: top;\n",
       "    }\n",
       "\n",
       "    .dataframe thead th {\n",
       "        text-align: right;\n",
       "    }\n",
       "</style>\n",
       "<table border=\"1\" class=\"dataframe\">\n",
       "  <thead>\n",
       "    <tr style=\"text-align: right;\">\n",
       "      <th></th>\n",
       "      <th>Unnamed: 0</th>\n",
       "      <th>url_len</th>\n",
       "      <th>url_num_hyphens_dom</th>\n",
       "      <th>url_path_len</th>\n",
       "      <th>url_domain_len</th>\n",
       "      <th>url_hostname_len</th>\n",
       "      <th>url_num_dots</th>\n",
       "      <th>url_num_underscores</th>\n",
       "      <th>url_query_len</th>\n",
       "      <th>url_num_query_para</th>\n",
       "      <th>...</th>\n",
       "      <th>html_num_tags('iframe')</th>\n",
       "      <th>html_num_tags('script')</th>\n",
       "      <th>html_num_tags('embed')</th>\n",
       "      <th>html_num_tags('object')</th>\n",
       "      <th>html_num_tags('div')</th>\n",
       "      <th>html_num_tags('head')</th>\n",
       "      <th>html_num_tags('body')</th>\n",
       "      <th>html_num_tags('form')</th>\n",
       "      <th>html_num_tags('a')</th>\n",
       "      <th>html_num_tags('applet')</th>\n",
       "    </tr>\n",
       "  </thead>\n",
       "  <tbody>\n",
       "    <tr>\n",
       "      <th>count</th>\n",
       "      <td>3664.000000</td>\n",
       "      <td>3664.000000</td>\n",
       "      <td>3664.000000</td>\n",
       "      <td>3663.000000</td>\n",
       "      <td>3663.000000</td>\n",
       "      <td>3664.000000</td>\n",
       "      <td>3664.000000</td>\n",
       "      <td>3664.000000</td>\n",
       "      <td>3664.000000</td>\n",
       "      <td>3664.000000</td>\n",
       "      <td>...</td>\n",
       "      <td>3664.000000</td>\n",
       "      <td>3664.000000</td>\n",
       "      <td>3664.000000</td>\n",
       "      <td>3664.000000</td>\n",
       "      <td>3664.000000</td>\n",
       "      <td>3664.000000</td>\n",
       "      <td>3664.000000</td>\n",
       "      <td>3664.000000</td>\n",
       "      <td>3664.000000</td>\n",
       "      <td>3664.0</td>\n",
       "    </tr>\n",
       "    <tr>\n",
       "      <th>mean</th>\n",
       "      <td>1831.500000</td>\n",
       "      <td>54.559225</td>\n",
       "      <td>0.412937</td>\n",
       "      <td>29.365820</td>\n",
       "      <td>20.383292</td>\n",
       "      <td>20.330513</td>\n",
       "      <td>2.516921</td>\n",
       "      <td>0.272653</td>\n",
       "      <td>4.707697</td>\n",
       "      <td>0.104258</td>\n",
       "      <td>...</td>\n",
       "      <td>0.220797</td>\n",
       "      <td>8.785480</td>\n",
       "      <td>0.018013</td>\n",
       "      <td>0.028930</td>\n",
       "      <td>70.843886</td>\n",
       "      <td>0.998090</td>\n",
       "      <td>1.016648</td>\n",
       "      <td>1.028930</td>\n",
       "      <td>66.182860</td>\n",
       "      <td>0.0</td>\n",
       "    </tr>\n",
       "    <tr>\n",
       "      <th>std</th>\n",
       "      <td>1057.850021</td>\n",
       "      <td>82.493265</td>\n",
       "      <td>0.847058</td>\n",
       "      <td>78.595248</td>\n",
       "      <td>9.597012</td>\n",
       "      <td>9.628093</td>\n",
       "      <td>1.534119</td>\n",
       "      <td>1.124592</td>\n",
       "      <td>25.318285</td>\n",
       "      <td>0.574310</td>\n",
       "      <td>...</td>\n",
       "      <td>0.898383</td>\n",
       "      <td>12.647356</td>\n",
       "      <td>0.144808</td>\n",
       "      <td>0.237682</td>\n",
       "      <td>365.593304</td>\n",
       "      <td>0.144974</td>\n",
       "      <td>0.225330</td>\n",
       "      <td>1.563903</td>\n",
       "      <td>342.651459</td>\n",
       "      <td>0.0</td>\n",
       "    </tr>\n",
       "    <tr>\n",
       "      <th>min</th>\n",
       "      <td>0.000000</td>\n",
       "      <td>6.000000</td>\n",
       "      <td>0.000000</td>\n",
       "      <td>0.000000</td>\n",
       "      <td>4.000000</td>\n",
       "      <td>4.000000</td>\n",
       "      <td>1.000000</td>\n",
       "      <td>0.000000</td>\n",
       "      <td>0.000000</td>\n",
       "      <td>0.000000</td>\n",
       "      <td>...</td>\n",
       "      <td>0.000000</td>\n",
       "      <td>0.000000</td>\n",
       "      <td>0.000000</td>\n",
       "      <td>0.000000</td>\n",
       "      <td>0.000000</td>\n",
       "      <td>0.000000</td>\n",
       "      <td>0.000000</td>\n",
       "      <td>0.000000</td>\n",
       "      <td>0.000000</td>\n",
       "      <td>0.0</td>\n",
       "    </tr>\n",
       "    <tr>\n",
       "      <th>25%</th>\n",
       "      <td>915.750000</td>\n",
       "      <td>24.000000</td>\n",
       "      <td>0.000000</td>\n",
       "      <td>1.000000</td>\n",
       "      <td>14.000000</td>\n",
       "      <td>14.000000</td>\n",
       "      <td>2.000000</td>\n",
       "      <td>0.000000</td>\n",
       "      <td>0.000000</td>\n",
       "      <td>0.000000</td>\n",
       "      <td>...</td>\n",
       "      <td>0.000000</td>\n",
       "      <td>2.000000</td>\n",
       "      <td>0.000000</td>\n",
       "      <td>0.000000</td>\n",
       "      <td>6.000000</td>\n",
       "      <td>1.000000</td>\n",
       "      <td>1.000000</td>\n",
       "      <td>0.000000</td>\n",
       "      <td>2.000000</td>\n",
       "      <td>0.0</td>\n",
       "    </tr>\n",
       "    <tr>\n",
       "      <th>50%</th>\n",
       "      <td>1831.500000</td>\n",
       "      <td>36.000000</td>\n",
       "      <td>0.000000</td>\n",
       "      <td>13.000000</td>\n",
       "      <td>17.000000</td>\n",
       "      <td>17.000000</td>\n",
       "      <td>2.000000</td>\n",
       "      <td>0.000000</td>\n",
       "      <td>0.000000</td>\n",
       "      <td>0.000000</td>\n",
       "      <td>...</td>\n",
       "      <td>0.000000</td>\n",
       "      <td>4.000000</td>\n",
       "      <td>0.000000</td>\n",
       "      <td>0.000000</td>\n",
       "      <td>33.000000</td>\n",
       "      <td>1.000000</td>\n",
       "      <td>1.000000</td>\n",
       "      <td>1.000000</td>\n",
       "      <td>16.000000</td>\n",
       "      <td>0.0</td>\n",
       "    </tr>\n",
       "    <tr>\n",
       "      <th>75%</th>\n",
       "      <td>2747.250000</td>\n",
       "      <td>55.000000</td>\n",
       "      <td>1.000000</td>\n",
       "      <td>31.000000</td>\n",
       "      <td>24.000000</td>\n",
       "      <td>24.000000</td>\n",
       "      <td>3.000000</td>\n",
       "      <td>0.000000</td>\n",
       "      <td>0.000000</td>\n",
       "      <td>0.000000</td>\n",
       "      <td>...</td>\n",
       "      <td>0.000000</td>\n",
       "      <td>12.000000</td>\n",
       "      <td>0.000000</td>\n",
       "      <td>0.000000</td>\n",
       "      <td>62.000000</td>\n",
       "      <td>1.000000</td>\n",
       "      <td>1.000000</td>\n",
       "      <td>1.000000</td>\n",
       "      <td>52.000000</td>\n",
       "      <td>0.0</td>\n",
       "    </tr>\n",
       "    <tr>\n",
       "      <th>max</th>\n",
       "      <td>3663.000000</td>\n",
       "      <td>1837.000000</td>\n",
       "      <td>14.000000</td>\n",
       "      <td>1816.000000</td>\n",
       "      <td>109.000000</td>\n",
       "      <td>109.000000</td>\n",
       "      <td>32.000000</td>\n",
       "      <td>18.000000</td>\n",
       "      <td>429.000000</td>\n",
       "      <td>9.000000</td>\n",
       "      <td>...</td>\n",
       "      <td>26.000000</td>\n",
       "      <td>267.000000</td>\n",
       "      <td>3.000000</td>\n",
       "      <td>8.000000</td>\n",
       "      <td>19941.000000</td>\n",
       "      <td>3.000000</td>\n",
       "      <td>3.000000</td>\n",
       "      <td>57.000000</td>\n",
       "      <td>13451.000000</td>\n",
       "      <td>0.0</td>\n",
       "    </tr>\n",
       "  </tbody>\n",
       "</table>\n",
       "<p>8 rows × 24 columns</p>\n",
       "</div>"
      ],
      "text/plain": [
       "        Unnamed: 0      url_len  url_num_hyphens_dom  url_path_len  \\\n",
       "count  3664.000000  3664.000000          3664.000000   3663.000000   \n",
       "mean   1831.500000    54.559225             0.412937     29.365820   \n",
       "std    1057.850021    82.493265             0.847058     78.595248   \n",
       "min       0.000000     6.000000             0.000000      0.000000   \n",
       "25%     915.750000    24.000000             0.000000      1.000000   \n",
       "50%    1831.500000    36.000000             0.000000     13.000000   \n",
       "75%    2747.250000    55.000000             1.000000     31.000000   \n",
       "max    3663.000000  1837.000000            14.000000   1816.000000   \n",
       "\n",
       "       url_domain_len  url_hostname_len  url_num_dots  url_num_underscores  \\\n",
       "count     3663.000000       3664.000000   3664.000000          3664.000000   \n",
       "mean        20.383292         20.330513      2.516921             0.272653   \n",
       "std          9.597012          9.628093      1.534119             1.124592   \n",
       "min          4.000000          4.000000      1.000000             0.000000   \n",
       "25%         14.000000         14.000000      2.000000             0.000000   \n",
       "50%         17.000000         17.000000      2.000000             0.000000   \n",
       "75%         24.000000         24.000000      3.000000             0.000000   \n",
       "max        109.000000        109.000000     32.000000            18.000000   \n",
       "\n",
       "       url_query_len  url_num_query_para  ...  html_num_tags('iframe')  \\\n",
       "count    3664.000000         3664.000000  ...              3664.000000   \n",
       "mean        4.707697            0.104258  ...                 0.220797   \n",
       "std        25.318285            0.574310  ...                 0.898383   \n",
       "min         0.000000            0.000000  ...                 0.000000   \n",
       "25%         0.000000            0.000000  ...                 0.000000   \n",
       "50%         0.000000            0.000000  ...                 0.000000   \n",
       "75%         0.000000            0.000000  ...                 0.000000   \n",
       "max       429.000000            9.000000  ...                26.000000   \n",
       "\n",
       "       html_num_tags('script')  html_num_tags('embed')  \\\n",
       "count              3664.000000             3664.000000   \n",
       "mean                  8.785480                0.018013   \n",
       "std                  12.647356                0.144808   \n",
       "min                   0.000000                0.000000   \n",
       "25%                   2.000000                0.000000   \n",
       "50%                   4.000000                0.000000   \n",
       "75%                  12.000000                0.000000   \n",
       "max                 267.000000                3.000000   \n",
       "\n",
       "       html_num_tags('object')  html_num_tags('div')  html_num_tags('head')  \\\n",
       "count              3664.000000           3664.000000            3664.000000   \n",
       "mean                  0.028930             70.843886               0.998090   \n",
       "std                   0.237682            365.593304               0.144974   \n",
       "min                   0.000000              0.000000               0.000000   \n",
       "25%                   0.000000              6.000000               1.000000   \n",
       "50%                   0.000000             33.000000               1.000000   \n",
       "75%                   0.000000             62.000000               1.000000   \n",
       "max                   8.000000          19941.000000               3.000000   \n",
       "\n",
       "       html_num_tags('body')  html_num_tags('form')  html_num_tags('a')  \\\n",
       "count            3664.000000            3664.000000         3664.000000   \n",
       "mean                1.016648               1.028930           66.182860   \n",
       "std                 0.225330               1.563903          342.651459   \n",
       "min                 0.000000               0.000000            0.000000   \n",
       "25%                 1.000000               0.000000            2.000000   \n",
       "50%                 1.000000               1.000000           16.000000   \n",
       "75%                 1.000000               1.000000           52.000000   \n",
       "max                 3.000000              57.000000        13451.000000   \n",
       "\n",
       "       html_num_tags('applet')  \n",
       "count                   3664.0  \n",
       "mean                       0.0  \n",
       "std                        0.0  \n",
       "min                        0.0  \n",
       "25%                        0.0  \n",
       "50%                        0.0  \n",
       "75%                        0.0  \n",
       "max                        0.0  \n",
       "\n",
       "[8 rows x 24 columns]"
      ]
     },
     "execution_count": 6,
     "metadata": {},
     "output_type": "execute_result"
    }
   ],
   "source": [
    "data.describe()"
   ]
  },
  {
   "cell_type": "code",
   "execution_count": 7,
   "metadata": {},
   "outputs": [],
   "source": [
    "def numeric_plot(col):\n",
    "    print(data[col].describe())\n",
    "    \n",
    "    col_series = pd.Series(data[col])\n",
    "    q1 = data[col].quantile(.25)\n",
    "    q3 = data[col].quantile(.75)\n",
    "    iqr = q3 - q1\n",
    "    min_iqr = max((q1 - (1.5*iqr)), data[col].min())\n",
    "    max_iqr = min((q1 + (1.5*iqr)), data[col].max())\n",
    "\n",
    "    if min_iqr != data[col].min():\n",
    "        print(f'이상치 numer : {min_iqr}')\n",
    "\n",
    "    if max_iqr != data[col].max():\n",
    "        print(f'이상치 over : {max_iqr}')\n",
    "        \n",
    "        \n",
    "    plt.figure(figsize=(12,5))\n",
    "    plt.subplot(1,2,1)\n",
    "    sns.histplot(data=data, x=col, kde=True)\n",
    "    plt.grid()\n",
    "\n",
    "    plt.subplot(1,2,2)\n",
    "    plt.boxplot(data=data, x=col)\n",
    "\n",
    "    plt.show()\n",
    "\n",
    "def class_plot(col):\n",
    "    print(data[col].describe())\n",
    "    print(data[col].unique())\n",
    "\n",
    "    sns.countplot(data=data, x=col)\n",
    "    plt.show()"
   ]
  },
  {
   "cell_type": "markdown",
   "metadata": {},
   "source": [
    "### target : Result_v1"
   ]
  },
  {
   "cell_type": "code",
   "execution_count": 8,
   "metadata": {},
   "outputs": [
    {
     "name": "stdout",
     "output_type": "stream",
     "text": [
      "count       3664\n",
      "unique         2\n",
      "top       benign\n",
      "freq        1858\n",
      "Name: Result_v1, dtype: object\n",
      "['malicious' 'benign']\n"
     ]
    },
    {
     "data": {
      "image/png": "[encoded data removed]",
      "text/plain": [
       "<Figure size 432x288 with 1 Axes>"
      ]
     },
     "metadata": {
      "needs_background": "light"
     },
     "output_type": "display_data"
    }
   ],
   "source": [
    "class_plot('Result_v1')"
   ]
  },
  {
   "cell_type": "code",
   "execution_count": 9,
   "metadata": {},
   "outputs": [
    {
     "data": {
      "text/html": [
       "<div>\n",
       "<style scoped>\n",
       "    .dataframe tbody tr th:only-of-type {\n",
       "        vertical-align: middle;\n",
       "    }\n",
       "\n",
       "    .dataframe tbody tr th {\n",
       "        vertical-align: top;\n",
       "    }\n",
       "\n",
       "    .dataframe thead th {\n",
       "        text-align: right;\n",
       "    }\n",
       "</style>\n",
       "<table border=\"1\" class=\"dataframe\">\n",
       "  <thead>\n",
       "    <tr style=\"text-align: right;\">\n",
       "      <th></th>\n",
       "      <th>Result_v1</th>\n",
       "      <th>url_len</th>\n",
       "    </tr>\n",
       "  </thead>\n",
       "  <tbody>\n",
       "    <tr>\n",
       "      <th>0</th>\n",
       "      <td>benign</td>\n",
       "      <td>1858</td>\n",
       "    </tr>\n",
       "    <tr>\n",
       "      <th>1</th>\n",
       "      <td>malicious</td>\n",
       "      <td>1806</td>\n",
       "    </tr>\n",
       "  </tbody>\n",
       "</table>\n",
       "</div>"
      ],
      "text/plain": [
       "   Result_v1  url_len\n",
       "0     benign     1858\n",
       "1  malicious     1806"
      ]
     },
     "execution_count": 9,
     "metadata": {},
     "output_type": "execute_result"
    }
   ],
   "source": [
    "data.groupby(by='Result_v1', as_index=False)['url_len'].count()"
   ]
  },
  {
   "cell_type": "markdown",
   "metadata": {},
   "source": [
    "### feature"
   ]
  },
  {
   "cell_type": "code",
   "execution_count": 10,
   "metadata": {},
   "outputs": [],
   "source": [
    "col = list(data.columns[1:-1])"
   ]
  },
  {
   "cell_type": "code",
   "execution_count": 11,
   "metadata": {},
   "outputs": [
    {
     "name": "stdout",
     "output_type": "stream",
     "text": [
      "url_len\n",
      "count    3664.000000\n",
      "mean       54.559225\n",
      "std        82.493265\n",
      "min         6.000000\n",
      "25%        24.000000\n",
      "50%        36.000000\n",
      "75%        55.000000\n",
      "max      1837.000000\n",
      "Name: url_len, dtype: float64\n",
      "이상치 over : 70.5\n"
     ]
    },
    {
     "data": {
      "image/png": "[encoded data removed]",
      "text/plain": [
       "<Figure size 864x360 with 2 Axes>"
      ]
     },
     "metadata": {
      "needs_background": "light"
     },
     "output_type": "display_data"
    },
    {
     "name": "stdout",
     "output_type": "stream",
     "text": [
      "--------------------------------------------------\n",
      "url_num_hyphens_dom\n",
      "count    3664.000000\n",
      "mean        0.412937\n",
      "std         0.847058\n",
      "min         0.000000\n",
      "25%         0.000000\n",
      "50%         0.000000\n",
      "75%         1.000000\n",
      "max        14.000000\n",
      "Name: url_num_hyphens_dom, dtype: float64\n",
      "이상치 over : 1.5\n"
     ]
    },
    {
     "data": {
      "image/png": "[encoded data removed]",
      "text/plain": [
       "<Figure size 864x360 with 2 Axes>"
      ]
     },
     "metadata": {
      "needs_background": "light"
     },
     "output_type": "display_data"
    },
    {
     "name": "stdout",
     "output_type": "stream",
     "text": [
      "--------------------------------------------------\n",
      "url_path_len\n",
      "count    3663.000000\n",
      "mean       29.365820\n",
      "std        78.595248\n",
      "min         0.000000\n",
      "25%         1.000000\n",
      "50%        13.000000\n",
      "75%        31.000000\n",
      "max      1816.000000\n",
      "Name: url_path_len, dtype: float64\n",
      "이상치 over : 46.0\n"
     ]
    },
    {
     "data": {
      "image/png": "[encoded data removed]",
      "text/plain": [
       "<Figure size 864x360 with 2 Axes>"
      ]
     },
     "metadata": {
      "needs_background": "light"
     },
     "output_type": "display_data"
    },
    {
     "name": "stdout",
     "output_type": "stream",
     "text": [
      "--------------------------------------------------\n",
      "url_domain_len\n",
      "count    3663.000000\n",
      "mean       20.383292\n",
      "std         9.597012\n",
      "min         4.000000\n",
      "25%        14.000000\n",
      "50%        17.000000\n",
      "75%        24.000000\n",
      "max       109.000000\n",
      "Name: url_domain_len, dtype: float64\n",
      "이상치 over : 29.0\n"
     ]
    },
    {
     "data": {
      "image/png": "[encoded data removed]",
      "text/plain": [
       "<Figure size 864x360 with 2 Axes>"
      ]
     },
     "metadata": {
      "needs_background": "light"
     },
     "output_type": "display_data"
    },
    {
     "name": "stdout",
     "output_type": "stream",
     "text": [
      "--------------------------------------------------\n",
      "url_hostname_len\n",
      "count    3664.000000\n",
      "mean       20.330513\n",
      "std         9.628093\n",
      "min         4.000000\n",
      "25%        14.000000\n",
      "50%        17.000000\n",
      "75%        24.000000\n",
      "max       109.000000\n",
      "Name: url_hostname_len, dtype: float64\n",
      "이상치 over : 29.0\n"
     ]
    },
    {
     "data": {
      "image/png": "[encoded data removed]",
      "text/plain": [
       "<Figure size 864x360 with 2 Axes>"
      ]
     },
     "metadata": {
      "needs_background": "light"
     },
     "output_type": "display_data"
    },
    {
     "name": "stdout",
     "output_type": "stream",
     "text": [
      "--------------------------------------------------\n",
      "url_num_dots\n",
      "count    3664.000000\n",
      "mean        2.516921\n",
      "std         1.534119\n",
      "min         1.000000\n",
      "25%         2.000000\n",
      "50%         2.000000\n",
      "75%         3.000000\n",
      "max        32.000000\n",
      "Name: url_num_dots, dtype: float64\n",
      "이상치 over : 3.5\n"
     ]
    },
    {
     "data": {
      "image/png": "[encoded data removed]",
      "text/plain": [
       "<Figure size 864x360 with 2 Axes>"
      ]
     },
     "metadata": {
      "needs_background": "light"
     },
     "output_type": "display_data"
    },
    {
     "name": "stdout",
     "output_type": "stream",
     "text": [
      "--------------------------------------------------\n",
      "url_num_underscores\n",
      "count    3664.000000\n",
      "mean        0.272653\n",
      "std         1.124592\n",
      "min         0.000000\n",
      "25%         0.000000\n",
      "50%         0.000000\n",
      "75%         0.000000\n",
      "max        18.000000\n",
      "Name: url_num_underscores, dtype: float64\n",
      "이상치 over : 0.0\n"
     ]
    },
    {
     "data": {
      "image/png": "[encoded data removed]",
      "text/plain": [
       "<Figure size 864x360 with 2 Axes>"
      ]
     },
     "metadata": {
      "needs_background": "light"
     },
     "output_type": "display_data"
    },
    {
     "name": "stdout",
     "output_type": "stream",
     "text": [
      "--------------------------------------------------\n",
      "url_query_len\n",
      "count    3664.000000\n",
      "mean        4.707697\n",
      "std        25.318285\n",
      "min         0.000000\n",
      "25%         0.000000\n",
      "50%         0.000000\n",
      "75%         0.000000\n",
      "max       429.000000\n",
      "Name: url_query_len, dtype: float64\n",
      "이상치 over : 0.0\n"
     ]
    },
    {
     "data": {
      "image/png": "[encoded data removed]",
      "text/plain": [
       "<Figure size 864x360 with 2 Axes>"
      ]
     },
     "metadata": {
      "needs_background": "light"
     },
     "output_type": "display_data"
    },
    {
     "name": "stdout",
     "output_type": "stream",
     "text": [
      "--------------------------------------------------\n",
      "url_num_query_para\n",
      "count    3664.000000\n",
      "mean        0.104258\n",
      "std         0.574310\n",
      "min         0.000000\n",
      "25%         0.000000\n",
      "50%         0.000000\n",
      "75%         0.000000\n",
      "max         9.000000\n",
      "Name: url_num_query_para, dtype: float64\n",
      "이상치 over : 0.0\n"
     ]
    },
    {
     "data": {
      "image/png": "[encoded data removed]",
      "text/plain": [
       "<Figure size 864x360 with 2 Axes>"
      ]
     },
     "metadata": {
      "needs_background": "light"
     },
     "output_type": "display_data"
    },
    {
     "name": "stdout",
     "output_type": "stream",
     "text": [
      "--------------------------------------------------\n",
      "url_ip_present\n",
      "count    3664.000000\n",
      "mean        0.060862\n",
      "std         0.239110\n",
      "min         0.000000\n",
      "25%         0.000000\n",
      "50%         0.000000\n",
      "75%         0.000000\n",
      "max         1.000000\n",
      "Name: url_ip_present, dtype: float64\n",
      "이상치 over : 0.0\n"
     ]
    },
    {
     "data": {
      "image/png": "[encoded data removed]",
      "text/plain": [
       "<Figure size 864x360 with 2 Axes>"
      ]
     },
     "metadata": {
      "needs_background": "light"
     },
     "output_type": "display_data"
    },
    {
     "name": "stdout",
     "output_type": "stream",
     "text": [
      "--------------------------------------------------\n",
      "url_entropy\n",
      "count    3664.000000\n",
      "mean        4.228568\n",
      "std         0.393055\n",
      "min         2.737839\n",
      "25%         3.983196\n",
      "50%         4.189561\n",
      "75%         4.458940\n",
      "max         5.821782\n",
      "Name: url_entropy, dtype: float64\n",
      "이상치 numer : 3.269578375499999\n",
      "이상치 over : 4.696812892500001\n"
     ]
    },
    {
     "data": {
      "image/png": "[encoded data removed]",
      "text/plain": [
       "<Figure size 864x360 with 2 Axes>"
      ]
     },
     "metadata": {
      "needs_background": "light"
     },
     "output_type": "display_data"
    },
    {
     "name": "stdout",
     "output_type": "stream",
     "text": [
      "--------------------------------------------------\n",
      "url_chinese_present\n",
      "count    3664.0\n",
      "mean        0.0\n",
      "std         0.0\n",
      "min         0.0\n",
      "25%         0.0\n",
      "50%         0.0\n",
      "75%         0.0\n",
      "max         0.0\n",
      "Name: url_chinese_present, dtype: float64\n"
     ]
    },
    {
     "data": {
      "image/png": "[encoded data removed]",
      "text/plain": [
       "<Figure size 864x360 with 2 Axes>"
      ]
     },
     "metadata": {
      "needs_background": "light"
     },
     "output_type": "display_data"
    },
    {
     "name": "stdout",
     "output_type": "stream",
     "text": [
      "--------------------------------------------------\n",
      "url_port\n",
      "count    3664.000000\n",
      "mean        0.002183\n",
      "std         0.046682\n",
      "min         0.000000\n",
      "25%         0.000000\n",
      "50%         0.000000\n",
      "75%         0.000000\n",
      "max         1.000000\n",
      "Name: url_port, dtype: float64\n",
      "이상치 over : 0.0\n"
     ]
    },
    {
     "data": {
      "image/png": "[encoded data removed]",
      "text/plain": [
       "<Figure size 864x360 with 2 Axes>"
      ]
     },
     "metadata": {
      "needs_background": "light"
     },
     "output_type": "display_data"
    },
    {
     "name": "stdout",
     "output_type": "stream",
     "text": [
      "--------------------------------------------------\n",
      "html_num_tags('iframe')\n",
      "count    3664.000000\n",
      "mean        0.220797\n",
      "std         0.898383\n",
      "min         0.000000\n",
      "25%         0.000000\n",
      "50%         0.000000\n",
      "75%         0.000000\n",
      "max        26.000000\n",
      "Name: html_num_tags('iframe'), dtype: float64\n",
      "이상치 over : 0.0\n"
     ]
    },
    {
     "data": {
      "image/png": "[encoded data removed]",
      "text/plain": [
       "<Figure size 864x360 with 2 Axes>"
      ]
     },
     "metadata": {
      "needs_background": "light"
     },
     "output_type": "display_data"
    },
    {
     "name": "stdout",
     "output_type": "stream",
     "text": [
      "--------------------------------------------------\n",
      "html_num_tags('script')\n",
      "count    3664.000000\n",
      "mean        8.785480\n",
      "std        12.647356\n",
      "min         0.000000\n",
      "25%         2.000000\n",
      "50%         4.000000\n",
      "75%        12.000000\n",
      "max       267.000000\n",
      "Name: html_num_tags('script'), dtype: float64\n",
      "이상치 over : 17.0\n"
     ]
    },
    {
     "data": {
      "image/png": "[encoded data removed]",
      "text/plain": [
       "<Figure size 864x360 with 2 Axes>"
      ]
     },
     "metadata": {
      "needs_background": "light"
     },
     "output_type": "display_data"
    },
    {
     "name": "stdout",
     "output_type": "stream",
     "text": [
      "--------------------------------------------------\n",
      "html_num_tags('embed')\n",
      "count    3664.000000\n",
      "mean        0.018013\n",
      "std         0.144808\n",
      "min         0.000000\n",
      "25%         0.000000\n",
      "50%         0.000000\n",
      "75%         0.000000\n",
      "max         3.000000\n",
      "Name: html_num_tags('embed'), dtype: float64\n",
      "이상치 over : 0.0\n"
     ]
    },
    {
     "data": {
      "image/png": "[encoded data removed]",
      "text/plain": [
       "<Figure size 864x360 with 2 Axes>"
      ]
     },
     "metadata": {
      "needs_background": "light"
     },
     "output_type": "display_data"
    },
    {
     "name": "stdout",
     "output_type": "stream",
     "text": [
      "--------------------------------------------------\n",
      "html_num_tags('object')\n",
      "count    3664.000000\n",
      "mean        0.028930\n",
      "std         0.237682\n",
      "min         0.000000\n",
      "25%         0.000000\n",
      "50%         0.000000\n",
      "75%         0.000000\n",
      "max         8.000000\n",
      "Name: html_num_tags('object'), dtype: float64\n",
      "이상치 over : 0.0\n"
     ]
    },
    {
     "data": {
      "image/png": "[encoded data removed]",
      "text/plain": [
       "<Figure size 864x360 with 2 Axes>"
      ]
     },
     "metadata": {
      "needs_background": "light"
     },
     "output_type": "display_data"
    },
    {
     "name": "stdout",
     "output_type": "stream",
     "text": [
      "--------------------------------------------------\n",
      "html_num_tags('div')\n",
      "count     3664.000000\n",
      "mean        70.843886\n",
      "std        365.593304\n",
      "min          0.000000\n",
      "25%          6.000000\n",
      "50%         33.000000\n",
      "75%         62.000000\n",
      "max      19941.000000\n",
      "Name: html_num_tags('div'), dtype: float64\n",
      "이상치 over : 90.0\n"
     ]
    },
    {
     "data": {
      "image/png": "[encoded data removed]",
      "text/plain": [
       "<Figure size 864x360 with 2 Axes>"
      ]
     },
     "metadata": {
      "needs_background": "light"
     },
     "output_type": "display_data"
    },
    {
     "name": "stdout",
     "output_type": "stream",
     "text": [
      "--------------------------------------------------\n",
      "html_num_tags('head')\n",
      "count    3664.000000\n",
      "mean        0.998090\n",
      "std         0.144974\n",
      "min         0.000000\n",
      "25%         1.000000\n",
      "50%         1.000000\n",
      "75%         1.000000\n",
      "max         3.000000\n",
      "Name: html_num_tags('head'), dtype: float64\n",
      "이상치 numer : 1.0\n",
      "이상치 over : 1.0\n"
     ]
    },
    {
     "data": {
      "image/png": "[encoded data removed]",
      "text/plain": [
       "<Figure size 864x360 with 2 Axes>"
      ]
     },
     "metadata": {
      "needs_background": "light"
     },
     "output_type": "display_data"
    },
    {
     "name": "stdout",
     "output_type": "stream",
     "text": [
      "--------------------------------------------------\n",
      "html_num_tags('body')\n",
      "count    3664.000000\n",
      "mean        1.016648\n",
      "std         0.225330\n",
      "min         0.000000\n",
      "25%         1.000000\n",
      "50%         1.000000\n",
      "75%         1.000000\n",
      "max         3.000000\n",
      "Name: html_num_tags('body'), dtype: float64\n",
      "이상치 numer : 1.0\n",
      "이상치 over : 1.0\n"
     ]
    },
    {
     "data": {
      "image/png": "[encoded data removed]",
      "text/plain": [
       "<Figure size 864x360 with 2 Axes>"
      ]
     },
     "metadata": {
      "needs_background": "light"
     },
     "output_type": "display_data"
    },
    {
     "name": "stdout",
     "output_type": "stream",
     "text": [
      "--------------------------------------------------\n",
      "html_num_tags('form')\n",
      "count    3664.000000\n",
      "mean        1.028930\n",
      "std         1.563903\n",
      "min         0.000000\n",
      "25%         0.000000\n",
      "50%         1.000000\n",
      "75%         1.000000\n",
      "max        57.000000\n",
      "Name: html_num_tags('form'), dtype: float64\n",
      "이상치 over : 1.5\n"
     ]
    },
    {
     "data": {
      "image/png": "[encoded data removed]",
      "text/plain": [
       "<Figure size 864x360 with 2 Axes>"
      ]
     },
     "metadata": {
      "needs_background": "light"
     },
     "output_type": "display_data"
    },
    {
     "name": "stdout",
     "output_type": "stream",
     "text": [
      "--------------------------------------------------\n",
      "html_num_tags('a')\n",
      "count     3664.000000\n",
      "mean        66.182860\n",
      "std        342.651459\n",
      "min          0.000000\n",
      "25%          2.000000\n",
      "50%         16.000000\n",
      "75%         52.000000\n",
      "max      13451.000000\n",
      "Name: html_num_tags('a'), dtype: float64\n",
      "이상치 over : 77.0\n"
     ]
    },
    {
     "data": {
      "image/png": "[encoded data removed]",
      "text/plain": [
       "<Figure size 864x360 with 2 Axes>"
      ]
     },
     "metadata": {
      "needs_background": "light"
     },
     "output_type": "display_data"
    },
    {
     "name": "stdout",
     "output_type": "stream",
     "text": [
      "--------------------------------------------------\n",
      "html_num_tags('applet')\n",
      "count    3664.0\n",
      "mean        0.0\n",
      "std         0.0\n",
      "min         0.0\n",
      "25%         0.0\n",
      "50%         0.0\n",
      "75%         0.0\n",
      "max         0.0\n",
      "Name: html_num_tags('applet'), dtype: float64\n"
     ]
    },
    {
     "data": {
      "image/png": "[encoded data removed]",
      "text/plain": [
       "<Figure size 864x360 with 2 Axes>"
      ]
     },
     "metadata": {
      "needs_background": "light"
     },
     "output_type": "display_data"
    },
    {
     "name": "stdout",
     "output_type": "stream",
     "text": [
      "--------------------------------------------------\n"
     ]
    }
   ],
   "source": [
    "for c in col:\n",
    "    print(c)\n",
    "    numeric_plot(c)\n",
    "    \n",
    "    print('-----' * 10)"
   ]
  },
  {
   "cell_type": "code",
   "execution_count": 12,
   "metadata": {},
   "outputs": [
    {
     "data": {
      "text/plain": [
       "array([0.])"
      ]
     },
     "execution_count": 12,
     "metadata": {},
     "output_type": "execute_result"
    }
   ],
   "source": [
    "data['url_chinese_present'].unique()"
   ]
  },
  {
   "cell_type": "code",
   "execution_count": 13,
   "metadata": {},
   "outputs": [
    {
     "data": {
      "text/plain": [
       "array([0.])"
      ]
     },
     "execution_count": 13,
     "metadata": {},
     "output_type": "execute_result"
    }
   ],
   "source": [
    "data[\"html_num_tags('applet')\"].unique()"
   ]
  },
  {
   "cell_type": "markdown",
   "metadata": {},
   "source": [
    "1. url_chinese_present / html_num_tags('applet') : 전체 데이터 0으로 필요없는 컬럼\n",
    "2. url_domain_len / url_hostname_len : 두 컬럼 데이터 값 모두 일치"
   ]
  },
  {
   "cell_type": "code",
   "execution_count": 14,
   "metadata": {},
   "outputs": [],
   "source": [
    "drop_col = ['url_chinese_present', \"html_num_tags('applet')\", 'Unnamed: 0']\n",
    "data = data.drop(drop_col, axis=1)"
   ]
  },
  {
   "cell_type": "code",
   "execution_count": 18,
   "metadata": {},
   "outputs": [],
   "source": [
    "# 결측치를 적절히 처리해줍니다.\n",
    "data = data.dropna(axis=0)"
   ]
  },
  {
   "cell_type": "code",
   "execution_count": 22,
   "metadata": {},
   "outputs": [],
   "source": [
    "# 'benign'은 1로 'malicious'\n",
    "data[target] = data[target].map({'malicious': 1, 'benign': 0})"
   ]
  },
  {
   "cell_type": "markdown",
   "metadata": {},
   "source": [
    "## <b>Q2. 데이터 이변량 분석하기\n",
    "\n",
    "* 자료의 종류에 맞게 X --> Y 에 대해서 그래프(시각화)와 가설검정(수치화)를 수행하고 결과를 평가합니다.\n",
    "* 가설검정시 다음의 항목을 참조하여 수행합니다.\n",
    "    * 적절한 유의수준\n",
    "    * 숫자 --> 숫자 : 상관분석\n",
    "    * 범주 --> 범주 : 카이제곱검정\n",
    "    * 범주 --> 숫자 : t검정, 분산분석\n",
    "    * 숫자 --> 범주 : 로지스틱 회귀모형을 통해, 회귀계수의 P.value로 검정을 수행합니다."
   ]
  },
  {
   "cell_type": "code",
   "execution_count": 23,
   "metadata": {},
   "outputs": [],
   "source": [
    "import statsmodels.api as sm\n",
    "def feature_plot(col):\n",
    "    print(col)\n",
    "    print(data.groupby(by=target, as_index=False)[col].mean())\n",
    "\n",
    "    m = data.loc[data[target] == 'malicious', col].mean()\n",
    "    b = data.loc[data[target] == 'benign', col].mean()\n",
    "\n",
    "    plt.figure(figsize=(15,8))\n",
    "    plt.subplot(1,2,1)\n",
    "    sns.histplot(data=data, x=col, hue=target)\n",
    "    plt.grid()\n",
    "    plt.axvline(m, color = 'r')\n",
    "    plt.axvline(b, color = 'g')\n",
    "\n",
    "    plt.subplot(1,2,2)\n",
    "    sns.kdeplot(data=data, x=col, hue=target, multiple='fill')\n",
    "    plt.yticks(np.linspace(0,1,10))\n",
    "\n",
    "    plt.show()\n",
    "    model = sm.Logit(data[target], data[col])\n",
    "    result = model.fit()\n",
    "    print(result.pvalues)\n",
    "    print('-----'*10)\n"
   ]
  },
  {
   "cell_type": "code",
   "execution_count": 20,
   "metadata": {},
   "outputs": [
    {
     "data": {
      "text/plain": [
       "['url_len',\n",
       " 'url_num_hyphens_dom',\n",
       " 'url_path_len',\n",
       " 'url_domain_len',\n",
       " 'url_hostname_len',\n",
       " 'url_num_dots',\n",
       " 'url_num_underscores',\n",
       " 'url_query_len',\n",
       " 'url_num_query_para',\n",
       " 'url_ip_present',\n",
       " 'url_entropy',\n",
       " 'url_port',\n",
       " \"html_num_tags('iframe')\",\n",
       " \"html_num_tags('script')\",\n",
       " \"html_num_tags('embed')\",\n",
       " \"html_num_tags('object')\",\n",
       " \"html_num_tags('div')\",\n",
       " \"html_num_tags('head')\",\n",
       " \"html_num_tags('body')\",\n",
       " \"html_num_tags('form')\",\n",
       " \"html_num_tags('a')\"]"
      ]
     },
     "execution_count": 20,
     "metadata": {},
     "output_type": "execute_result"
    }
   ],
   "source": [
    "col = list(data.columns[:-1])\n",
    "col"
   ]
  },
  {
   "cell_type": "code",
   "execution_count": null,
   "metadata": {},
   "outputs": [],
   "source": [
    "data.columns"
   ]
  },
  {
   "cell_type": "code",
   "execution_count": null,
   "metadata": {},
   "outputs": [],
   "source": [
    "# 로지스틱 회귀 pvalue 검증 시 관계 있는 feature\n",
    "pvalue_col = ['url_num_hyphens_dom', 'url_path_len', 'url_domain_len', 'url_num_underscores', 'url_ip_present', \"html_num_tags('script')\", \"html_num_tags('embed')\", \"html_num_tags('object')\", \"html_num_tags('div')\", \"html_num_tags('form')\", \"html_num_tags('a')\"]"
   ]
  },
  {
   "cell_type": "markdown",
   "metadata": {},
   "source": [
    "<pre>\n",
    "url_len : 250 근처에 악성페이지 분포\n",
    "pvalue 검정 시 상관관계가 없는 feature\n",
    "\n",
    "url_num_hyphens_dom : 정상 페이지의 평균은 0.1로 거의 0에 가깝다\n",
    "하이픈의 개수가 1개 이상인 경우 악성페이지의 가능성이 높다\n",
    "pvalue 검정 시 상관관계가 있는 feature\n",
    "\n",
    "\n",
    "url_path_len : 100 미만에 악성페이지의 대부분이 분포한다\n",
    "pvalue 검정 시 상관관계가 있는 feature\n",
    "\n",
    "url_domain_len : 20 근처에 정상 페이지 분포\n",
    "pvalue 검정 시 상관관계가 있는 feature\n",
    "\n",
    "url_num_dots : pvalue 검정 시 낮은 상관관계가 있는 feature\n",
    "\n",
    "url_num_underscores : 악성페이지의 대부분 _의 개수가 0~2개 사이에 분포한다\n",
    "pvalue 검정 시 상관관계가 있는 feature\n",
    "\n",
    "url_query_len : 정상페이지의 쿼리 길이는 0에 수렴한다.\n",
    "pvalue 검정 시 상관관계가 없는 feature\n",
    "\n",
    "url_num_query_para : 정상페이지의 쿼리 개수는 0에 수렴한다.\n",
    "pvalue 검정 시 상관관계가 없는 feature\n",
    "\n",
    "url_ip_present : \n",
    "pvalue 검정 시 상관관계가 있는 feature\n",
    "\n",
    "url_entropy : pvalue 검정 시 상관관계가 없는 feature\n",
    "\n",
    "url_port : pvalue 검정 시 상관관계가 없는 feature\n",
    "\n",
    "html_num_tags('iframe') : pvalue 검정 시 상관관계가 없는 feature\n",
    "\n",
    "html_num_tags('script') : pvalue 검정 시 상관관계가 있는 feature\n",
    "\n",
    "html_num_tags('embed') :  pvalue 검정 시 상관관계가 있는 feature\n",
    "\n",
    "html_num_tags('object') :  pvalue 검정 시 상관관계가 있는 feature\n",
    "\n",
    "html_num_tags('div') : 악성페이지의 div 개수가 정상페이지 보다 적다\n",
    " pvalue 검정 시 상관관계가 있는 feature\n",
    "\n",
    "html_num_tags('head') : pvalue 검정 시 상관관계가 없는 feature\n",
    "\n",
    "html_num_tags('body') : pvalue 검정 시 상관관계가 없는 feature\n",
    "\n",
    "html_num_tags('form') : pvalue 검정 시 상관관계가 있는 feature\n",
    "\n",
    "html_num_tags('a') : pvalue 검정 시 상관관계가 있는 feature\n",
    "</pre>"
   ]
  },
  {
   "cell_type": "markdown",
   "metadata": {},
   "source": [
    "# <b>Step 2. 데이터 전처리\n",
    "---"
   ]
  },
  {
   "cell_type": "markdown",
   "metadata": {},
   "source": [
    "## <b>Q3. 중복 데이터 제거\n",
    "### 우리가 접속하는 대부분의 웹사이트는 정상 사이트입니다.\n",
    "### 또한, 특정 몇 개 사이트(ex. google, instagram, facebook 등)에 접속 빈도가 높습니다.\n",
    "### 편중된 데이터는 모델 학습에 안 좋은 영향을 주기 때문에 중복 데이터 제거를 통해 해결합니다.\n",
    "### 이 과정은 데이터 전처리 시 반드시 해야 하는 과정은 아니며, 프로젝트/데이터 성격에 맞게 결정하시면 됩니다."
   ]
  },
  {
   "cell_type": "markdown",
   "metadata": {},
   "source": [
    "### <span style=\"color:darkred\">[문제1] df info()를 통해 데이터를 확인하고 중복된 데이터는 삭제해주세요. 삭제 후 info()를 통해 이전 데이터와 비교해 보세요.<span>"
   ]
  },
  {
   "cell_type": "code",
   "execution_count": null,
   "metadata": {},
   "outputs": [],
   "source": [
    "# 데이터 프레임의 info를 확인합니다.\n",
    "data.info()"
   ]
  },
  {
   "cell_type": "code",
   "execution_count": null,
   "metadata": {},
   "outputs": [],
   "source": [
    "# 중복 데이터 제거를 제거합니다.\n",
    "data = data.drop('url_hostname_len', axis=1)\n"
   ]
  },
  {
   "cell_type": "code",
   "execution_count": null,
   "metadata": {},
   "outputs": [],
   "source": [
    "data.info()"
   ]
  },
  {
   "cell_type": "markdown",
   "metadata": {},
   "source": [
    "---"
   ]
  },
  {
   "cell_type": "markdown",
   "metadata": {},
   "source": [
    "## <b>Q4. 텍스트와 범주형 특성 처리\n",
    "\n",
    "### 기계가 데이터를 인식할 수 있도록 텍스트 데이터를 수치형 데이터로 변경합니다.\n",
    " - replace() 함수를 이용한 텍스트와 범주형 특성 처리"
   ]
  },
  {
   "cell_type": "markdown",
   "metadata": {},
   "source": [
    "**<span style=\"color:green\">[참고링크] 공식 Document**</span>\n",
    "\n",
    "* replace(https://pandas.pydata.org/pandas-docs/stable/reference/api/pandas.DataFrame.replace.html)\n",
    "* unique(https://pandas.pydata.org/pandas-docs/stable/reference/api/pandas.unique.html)"
   ]
  },
  {
   "cell_type": "markdown",
   "metadata": {},
   "source": [
    "### <span style=\"color:blue\">[예시] df_ex 데이터 프레임에서 replace 함수를 활용 'CA'는'California'로 'NY'는 'NewYork'으로 변경합니다.<span>"
   ]
  },
  {
   "cell_type": "code",
   "execution_count": null,
   "metadata": {},
   "outputs": [],
   "source": [
    "import pandas as pd\n",
    "\n",
    "df_ex = pd.DataFrame({'name': ['Alice','Bob','Charlie','Dave','Ellen','Frank'],\n",
    "                   'age': [24,42,18,68,24,30],\n",
    "                   'state': ['NY','CA','CA','TX','CA','NY'],\n",
    "                   'point': [64,24,70,70,88,57]}\n",
    "                  )\n",
    "\n",
    "print(df_ex)"
   ]
  },
  {
   "cell_type": "code",
   "execution_count": null,
   "metadata": {},
   "outputs": [],
   "source": []
  },
  {
   "cell_type": "markdown",
   "metadata": {},
   "source": [
    "### <span style=\"color:darkred\">[문제2] replace() 함수를 활용 'benign'은 1로 'malicious'은 -1로 변경해주세요. 삭제 후 df['Result_v1'] 전후 데이터를 비교해 보세요.<span>"
   ]
  },
  {
   "cell_type": "code",
   "execution_count": null,
   "metadata": {},
   "outputs": [],
   "source": [
    "# 텍스트 데이터를 수치형 데이터로 변경 전 unique() 함수를 통해 유일한 값 확인\n",
    "\n",
    "data[target].unique()"
   ]
  },
  {
   "cell_type": "code",
   "execution_count": null,
   "metadata": {},
   "outputs": [],
   "source": [
    "# replace() 함수를 사용 텍스트 데이터를 수치형 데이터로 변경합니다.\n",
    "# data[target] = data[target].map({-1: 1, 1: 0})"
   ]
  },
  {
   "cell_type": "code",
   "execution_count": null,
   "metadata": {},
   "outputs": [],
   "source": [
    "# 텍스트 데이터를 수치형 데이터로 후 unique() 함수를 통해 유일한 값 확인\n",
    "data[target].unique()\n"
   ]
  },
  {
   "cell_type": "markdown",
   "metadata": {},
   "source": [
    "---"
   ]
  },
  {
   "cell_type": "markdown",
   "metadata": {},
   "source": [
    "## <b>Q5. 결측치 처리\n",
    "\n",
    "### 데이터 수집 과정에서 발생한 오류 등으로 인해 결측치가 포함된 경우가 많습니다.\n",
    "### 모델링 전에 결측치를 확인하고 이를 정제하는 과정은 필요합니다."
   ]
  },
  {
   "cell_type": "markdown",
   "metadata": {},
   "source": [
    "### <span style=\"color:darkred\">[문제3] 결측치의 존재를 확인하고 결측치가 포함된 데이터를 처리해보세요.<span>"
   ]
  },
  {
   "cell_type": "code",
   "execution_count": null,
   "metadata": {},
   "outputs": [],
   "source": [
    "# 결축치의 존재를 확인합니다.\n",
    "data.isna().sum()\n",
    "data.shape\n"
   ]
  },
  {
   "cell_type": "code",
   "execution_count": null,
   "metadata": {},
   "outputs": [],
   "source": [
    "# 결측치를 적절히 처리해줍니다.\n",
    "data = data.dropna(axis=0)"
   ]
  },
  {
   "cell_type": "code",
   "execution_count": null,
   "metadata": {},
   "outputs": [],
   "source": [
    "# 결축치의 존재를 확인합니다.\n",
    "data.shape"
   ]
  },
  {
   "cell_type": "markdown",
   "metadata": {},
   "source": [
    "---"
   ]
  },
  {
   "cell_type": "markdown",
   "metadata": {},
   "source": [
    "## <b>Q6. 데이터 탐색을 통해 새로운 변수 추가 혹은 불필요한 변수 제거\n",
    "\n",
    "### AI모델의 성능 향상을 위해 기존의 변수를 조합해 새로운 변수를 만들어 내기도 하고\n",
    "### 데이터 분석을 통해 필요없는 변수는 삭제하는 과정이 필요 합니다."
   ]
  },
  {
   "cell_type": "markdown",
   "metadata": {},
   "source": [
    "### <span style=\"color:darkred\">[문제4] 상관관계 함수 및 데이터 시각화 등을 활용하며 데이터셋을 분석하고 컬럼을 추가/삭제 해보세요.<span>"
   ]
  },
  {
   "cell_type": "markdown",
   "metadata": {},
   "source": [
    "모든 값 0으로 불필요한 컬럼 / 의미 없는 index 컬럼 삭제"
   ]
  },
  {
   "cell_type": "code",
   "execution_count": null,
   "metadata": {},
   "outputs": [],
   "source": [
    "# drop_col = ['url_chinese_present', \"html_num_tags('applet')\", 'Unnamed: 0']\n",
    "# data = data.drop(drop_col, axis=1)"
   ]
  },
  {
   "cell_type": "code",
   "execution_count": null,
   "metadata": {},
   "outputs": [],
   "source": [
    "data.info()"
   ]
  },
  {
   "cell_type": "markdown",
   "metadata": {},
   "source": [
    "---"
   ]
  },
  {
   "cell_type": "markdown",
   "metadata": {},
   "source": [
    "## <b>Q7. train_test_split을 이용하여, train_x, test_x, train_y, test_y로 데이터 분리\n",
    "\n",
    "### 모델을 학습하는 데에는 Train 데이터만 사용해야 합니다.\n",
    "### 학습에 사용하지 않은 데이터를 통해 모델을 평가해야 합니다.\n",
    "### 그러기 위해 Train / Test 데이터로 분리합니다.\n"
   ]
  },
  {
   "cell_type": "markdown",
   "metadata": {},
   "source": [
    "**<span style=\"color:green\">[참고링크] 공식 Document**</span>\n",
    "\n",
    "* train_test_split(https://scikit-learn.org/stable/modules/generated/sklearn.model_selection.train_test_split.html)"
   ]
  },
  {
   "cell_type": "markdown",
   "metadata": {},
   "source": [
    "### <span style=\"color:darkred\">[문제5] train_test_split 함수를 사용하여 train 데이터와 test 데이터를 분리하고 각각의 shape를 확인하세요<span>"
   ]
  },
  {
   "cell_type": "code",
   "execution_count": null,
   "metadata": {},
   "outputs": [],
   "source": [
    "x = data.drop(target, axis=1)\n",
    "y = data[target]"
   ]
  },
  {
   "cell_type": "code",
   "execution_count": null,
   "metadata": {},
   "outputs": [],
   "source": [
    "x.shape, y.shape"
   ]
  },
  {
   "cell_type": "code",
   "execution_count": null,
   "metadata": {},
   "outputs": [],
   "source": [
    "x_train, x_val, y_train, y_val = train_test_split(x, y, test_size=.3)"
   ]
  },
  {
   "cell_type": "code",
   "execution_count": null,
   "metadata": {},
   "outputs": [],
   "source": [
    "x_train_f = x_train[pvalue_col]\n",
    "x_val_f = x_val[pvalue_col]"
   ]
  },
  {
   "cell_type": "code",
   "execution_count": null,
   "metadata": {},
   "outputs": [],
   "source": [
    "scaler = MinMaxScaler()\n",
    "x_train_s = scaler.fit_transform(x_train)\n",
    "x_val_s = scaler.fit_transform(x_val)"
   ]
  }
 ],
 "metadata": {
  "kernelspec": {
   "display_name": "Python 3.9.12 ('base')",
   "language": "python",
   "name": "python3"
  },
  "language_info": {
   "codemirror_mode": {
    "name": "ipython",
    "version": 3
   },
   "file_extension": ".py",
   "mimetype": "text/x-python",
   "name": "python",
   "nbconvert_exporter": "python",
   "pygments_lexer": "ipython3",
   "version": "3.9.12"
  },
  "vscode": {
   "interpreter": {
    "hash": "5f7678e3cf7566e35dc0bd53f9a2e61d18c90ac4f700ab60c30179035bddd9e2"
   }
  }
 },
 "nbformat": 4,
 "nbformat_minor": 4
}
